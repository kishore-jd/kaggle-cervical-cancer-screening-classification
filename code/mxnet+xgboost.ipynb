{
 "cells": [
  {
   "cell_type": "markdown",
   "metadata": {
    "deletable": true,
    "editable": true
   },
   "source": [
    "# Step 1. List All Image Paths"
   ]
  },
  {
   "cell_type": "code",
   "execution_count": 19,
   "metadata": {
    "collapsed": false,
    "deletable": true,
    "editable": true
   },
   "outputs": [
    {
     "name": "stderr",
     "output_type": "stream",
     "text": [
      "/usr/local/lib/anaconda2/lib/python2.7/json/encoder.py:207: DeprecationWarning: Interpreting naive datetime as local 2017-06-09 09:39:56.283581. Please add timezone info to timestamps.\n",
      "  chunks = self.iterencode(o, _one_shot=True)\n"
     ]
    }
   ],
   "source": [
    "import os\n",
    "\n",
    "def get_train_img_list(train_img_path):\n",
    "    train_img_path_list = []\n",
    "    \n",
    "    type_path_list = map(lambda type_name: \"/\".join([train_img_path, type_name]), os.listdir(train_img_path))\n",
    "    print(\"all type paths below:\")\n",
    "    for p_idx in xrange(len(type_path_list)):\n",
    "        print \"\".join(\n",
    "            map(str, [\"type\", (p_idx+1), \" dir:\", type_path_list[p_idx]])\n",
    "        )\n",
    "\n",
    "    for p_idx in xrange(len(type_path_list)):\n",
    "        type_img_name_list = map(lambda img_name:\n",
    "                                 \"/\".join([type_path_list[p_idx], img_name]),\n",
    "                                 os.listdir(type_path_list[p_idx]))\n",
    "        print \"\".join(\n",
    "            map(str, [\"type\", (p_idx+1), \" images number:\", len(type_img_name_list)])\n",
    "        )\n",
    "        train_img_path_list.extend(type_img_name_list)\n",
    "\n",
    "    for p_idx in xrange(len(type_img_name_list[:10])): \n",
    "        print \"\".join(\n",
    "            map(str, [\"sample \", p_idx+1, \":\", type_img_name_list[p_idx]])\n",
    "        )\n",
    "        \n",
    "    # filter no-image files\n",
    "    train_img_path_list = filter(lambda f: f[-4:] == \".jpg\", train_img_path_list)\n",
    "    return train_img_path_list"
   ]
  },
  {
   "cell_type": "code",
   "execution_count": 20,
   "metadata": {
    "collapsed": false,
    "deletable": true,
    "editable": true
   },
   "outputs": [
    {
     "name": "stdout",
     "output_type": "stream",
     "text": [
      "all type paths below:\n",
      "type1 dir:/media/yuens/WIN10-ENTERTENMENT/Kaggle/Intel-CCS/train_add_seg_224/Type_1_seg_224\n",
      "type2 dir:/media/yuens/WIN10-ENTERTENMENT/Kaggle/Intel-CCS/train_add_seg_224/Type_2_seg_224\n",
      "type3 dir:/media/yuens/WIN10-ENTERTENMENT/Kaggle/Intel-CCS/train_add_seg_224/Type_3_seg_224\n",
      "type1 images number:5760\n",
      "type2 images number:17384\n",
      "type3 images number:9704\n",
      "sample 1:/media/yuens/WIN10-ENTERTENMENT/Kaggle/Intel-CCS/train_add_seg_224/Type_3_seg_224/100-resnet-152.npy\n",
      "sample 2:/media/yuens/WIN10-ENTERTENMENT/Kaggle/Intel-CCS/train_add_seg_224/Type_3_seg_224/100-resnet-200.npy\n",
      "sample 3:/media/yuens/WIN10-ENTERTENMENT/Kaggle/Intel-CCS/train_add_seg_224/Type_3_seg_224/100-resnext-50.npy\n",
      "sample 4:/media/yuens/WIN10-ENTERTENMENT/Kaggle/Intel-CCS/train_add_seg_224/Type_3_seg_224/100.jpg\n",
      "sample 5:/media/yuens/WIN10-ENTERTENMENT/Kaggle/Intel-CCS/train_add_seg_224/Type_3_seg_224/1000-resnet-152.npy\n",
      "sample 6:/media/yuens/WIN10-ENTERTENMENT/Kaggle/Intel-CCS/train_add_seg_224/Type_3_seg_224/1000-resnet-200.npy\n",
      "sample 7:/media/yuens/WIN10-ENTERTENMENT/Kaggle/Intel-CCS/train_add_seg_224/Type_3_seg_224/1000-resnext-50.npy\n",
      "sample 8:/media/yuens/WIN10-ENTERTENMENT/Kaggle/Intel-CCS/train_add_seg_224/Type_3_seg_224/1000.jpg\n",
      "sample 9:/media/yuens/WIN10-ENTERTENMENT/Kaggle/Intel-CCS/train_add_seg_224/Type_3_seg_224/1003-resnet-152.npy\n",
      "sample 10:/media/yuens/WIN10-ENTERTENMENT/Kaggle/Intel-CCS/train_add_seg_224/Type_3_seg_224/1003-resnet-200.npy\n",
      "8212\n"
     ]
    },
    {
     "name": "stderr",
     "output_type": "stream",
     "text": [
      "/usr/local/lib/anaconda2/lib/python2.7/json/encoder.py:207: DeprecationWarning: Interpreting naive datetime as local 2017-06-09 09:39:56.737291. Please add timezone info to timestamps.\n",
      "  chunks = self.iterencode(o, _one_shot=True)\n"
     ]
    }
   ],
   "source": [
    "###############################\n",
    "# just for test               #\n",
    "###############################\n",
    "\n",
    "train_img_path = \"/media/yuens/WIN10-ENTERTENMENT/Kaggle/Intel-CCS/train_add_seg_224\"\n",
    "img_path_list = get_train_img_list(train_img_path)\n",
    "print len(img_path_list)"
   ]
  },
  {
   "cell_type": "markdown",
   "metadata": {
    "deletable": true,
    "editable": true
   },
   "source": [
    "# Step 2. Extract Features Using Pretrained Models\n",
    "\n",
    "## Step 2.1 Attaining label name"
   ]
  },
  {
   "cell_type": "code",
   "execution_count": 58,
   "metadata": {
    "collapsed": false,
    "deletable": true,
    "editable": true
   },
   "outputs": [
    {
     "name": "stdout",
     "output_type": "stream",
     "text": [
      "\n"
     ]
    },
    {
     "name": "stderr",
     "output_type": "stream",
     "text": [
      "/usr/local/lib/anaconda2/lib/python2.7/json/encoder.py:207: DeprecationWarning: Interpreting naive datetime as local 2017-06-09 22:56:12.320341. Please add timezone info to timestamps.\n",
      "  chunks = self.iterencode(o, _one_shot=True)\n"
     ]
    }
   ],
   "source": [
    "def get_synset(synset_path=\"../model/synset.txt\"):\n",
    "    #synset_path = \"../model/synset.txt\"\n",
    "    with open(synset_path) as f:\n",
    "        synsets = [l.rstrip() for l in f]\n",
    "    #print synsets\n",
    "    return synsets"
   ]
  },
  {
   "cell_type": "markdown",
   "metadata": {
    "deletable": true,
    "editable": true
   },
   "source": [
    "## Step 2.2 All layers of resneXt-50 and last 10 layers:\n",
    "\n",
    "First, have a look to observe the last 10 layers of a pretrained model:"
   ]
  },
  {
   "cell_type": "code",
   "execution_count": 59,
   "metadata": {
    "collapsed": false,
    "deletable": true,
    "editable": true
   },
   "outputs": [
    {
     "data": {
      "text/plain": [
       "['stage4_unit3_bn3_output',\n",
       " '_plus15_output',\n",
       " 'stage4_unit3_relu_output',\n",
       " 'pool1_output',\n",
       " 'flatten0_output',\n",
       " 'fc1_weight',\n",
       " 'fc1_bias',\n",
       " 'fc1_output',\n",
       " 'softmax_label']"
      ]
     },
     "execution_count": 59,
     "metadata": {},
     "output_type": "execute_result"
    },
    {
     "name": "stderr",
     "output_type": "stream",
     "text": [
      "/usr/local/lib/anaconda2/lib/python2.7/json/encoder.py:207: DeprecationWarning: Interpreting naive datetime as local 2017-06-09 22:56:14.326299. Please add timezone info to timestamps.\n",
      "  chunks = self.iterencode(o, _one_shot=True)\n"
     ]
    }
   ],
   "source": [
    "###############################\n",
    "# just for test               #\n",
    "###############################\n",
    "\n",
    "import mxnet as mx\n",
    "\n",
    "prefix = \"../model/finetune-resnext-50-train-add-seg-224-lr-0.01\"\n",
    "epoch = 3\n",
    "sym, arg_params, aux_params = mx.model.load_checkpoint(prefix, epoch)\n",
    "\n",
    "all_layers = sym.get_internals()\n",
    "all_layers.list_outputs()[-10:-1]"
   ]
  },
  {
   "cell_type": "markdown",
   "metadata": {
    "deletable": true,
    "editable": true
   },
   "source": [
    "## Step 2.3 Attaining feature of flatten0_output layer from symbol:"
   ]
  },
  {
   "cell_type": "code",
   "execution_count": 60,
   "metadata": {
    "collapsed": false,
    "deletable": true,
    "editable": true
   },
   "outputs": [
    {
     "name": "stderr",
     "output_type": "stream",
     "text": [
      "/usr/local/lib/anaconda2/lib/python2.7/json/encoder.py:207: DeprecationWarning: Interpreting naive datetime as local 2017-06-09 22:56:17.127679. Please add timezone info to timestamps.\n",
      "  chunks = self.iterencode(o, _one_shot=True)\n"
     ]
    }
   ],
   "source": [
    "def get_feature_extractor(prefix, epoch):\n",
    "    \n",
    "    sym, arg_params, aux_params = mx.model.load_checkpoint(prefix, epoch)\n",
    "\n",
    "    all_layers = sym.get_internals()\n",
    "    flatten_output_sym = all_layers['flatten0_output']\n",
    "    mod_output = mx.mod.Module(symbol=flatten_output_sym, label_names=None, context=mx.cpu())\n",
    "    mod_output.bind(for_training=False, data_shapes=[('data', (1,3,224,224))])\n",
    "    mod_output.set_params(arg_params, aux_params)\n",
    "    \n",
    "    feature_extractor = mod_output\n",
    "    return feature_extractor"
   ]
  },
  {
   "cell_type": "markdown",
   "metadata": {
    "deletable": true,
    "editable": true
   },
   "source": [
    "## Step 2.4 Attaining image and make resize"
   ]
  },
  {
   "cell_type": "code",
   "execution_count": 61,
   "metadata": {
    "collapsed": false,
    "deletable": true,
    "editable": true
   },
   "outputs": [
    {
     "name": "stderr",
     "output_type": "stream",
     "text": [
      "/usr/local/lib/anaconda2/lib/python2.7/json/encoder.py:207: DeprecationWarning: Interpreting naive datetime as local 2017-06-09 22:56:21.899916. Please add timezone info to timestamps.\n",
      "  chunks = self.iterencode(o, _one_shot=True)\n"
     ]
    }
   ],
   "source": [
    "import cv2\n",
    "import numpy as np\n",
    "\n",
    "def get_image(filename, input_shape=(224, 224)):\n",
    "    img = cv2.imread(filename)  # read image in b,g,r order\n",
    "    img = cv2.cvtColor(img, cv2.COLOR_BGR2RGB)   # change to r,g,b order\n",
    "    img = cv2.resize(img, input_shape)  # resize to 224*224 to fit model\n",
    "    img = np.swapaxes(img, 0, 2)\n",
    "    img = np.swapaxes(img, 1, 2)  # change to (channel, height, width)\n",
    "    img = img[np.newaxis, :]  # extend to (example, channel, heigth, width)\n",
    "    return img"
   ]
  },
  {
   "cell_type": "markdown",
   "metadata": {},
   "source": [
    "# Step 2.5 Feature Extraction\n",
    "\n",
    "Extract and save features for each image of three types."
   ]
  },
  {
   "cell_type": "code",
   "execution_count": 65,
   "metadata": {
    "collapsed": false,
    "deletable": true,
    "editable": true,
    "scrolled": true
   },
   "outputs": [
    {
     "name": "stdout",
     "output_type": "stream",
     "text": [
      " all type paths below:\n",
      "type1 dir:/media/yuens/WIN10-ENTERTENMENT/Kaggle/Intel-CCS/train_add_seg_224/Type_1_seg_224\n",
      "type2 dir:/media/yuens/WIN10-ENTERTENMENT/Kaggle/Intel-CCS/train_add_seg_224/Type_2_seg_224\n",
      "type3 dir:/media/yuens/WIN10-ENTERTENMENT/Kaggle/Intel-CCS/train_add_seg_224/Type_3_seg_224\n",
      "type1 images number:5760\n",
      "type2 images number:17384\n",
      "type3 images number:9704\n",
      "sample 1:/media/yuens/WIN10-ENTERTENMENT/Kaggle/Intel-CCS/train_add_seg_224/Type_3_seg_224/100-resnet-152.npy\n",
      "sample 2:/media/yuens/WIN10-ENTERTENMENT/Kaggle/Intel-CCS/train_add_seg_224/Type_3_seg_224/100-resnet-200.npy\n",
      "sample 3:/media/yuens/WIN10-ENTERTENMENT/Kaggle/Intel-CCS/train_add_seg_224/Type_3_seg_224/100-resnext-50.npy\n",
      "sample 4:/media/yuens/WIN10-ENTERTENMENT/Kaggle/Intel-CCS/train_add_seg_224/Type_3_seg_224/100.jpg\n",
      "sample 5:/media/yuens/WIN10-ENTERTENMENT/Kaggle/Intel-CCS/train_add_seg_224/Type_3_seg_224/1000-resnet-152.npy\n",
      "sample 6:/media/yuens/WIN10-ENTERTENMENT/Kaggle/Intel-CCS/train_add_seg_224/Type_3_seg_224/1000-resnet-200.npy\n",
      "sample 7:/media/yuens/WIN10-ENTERTENMENT/Kaggle/Intel-CCS/train_add_seg_224/Type_3_seg_224/1000-resnext-50.npy\n",
      "sample 8:/media/yuens/WIN10-ENTERTENMENT/Kaggle/Intel-CCS/train_add_seg_224/Type_3_seg_224/1000.jpg\n",
      "sample 9:/media/yuens/WIN10-ENTERTENMENT/Kaggle/Intel-CCS/train_add_seg_224/Type_3_seg_224/1003-resnet-152.npy\n",
      "sample 10:/media/yuens/WIN10-ENTERTENMENT/Kaggle/Intel-CCS/train_add_seg_224/Type_3_seg_224/1003-resnet-200.npy\n",
      "2017-06-09 22:56:56 1th/8212 img calc and save feats:1.3114 path:/media/yuens/WIN10-ENTERTENMENT/Kaggle/Intel-CCS/train_add_seg_224/Type_1_seg_224/0-resnet-152.npy\n",
      "2017-06-09 22:56:58 2th/8212 img calc and save feats:0.9804 path:/media/yuens/WIN10-ENTERTENMENT/Kaggle/Intel-CCS/train_add_seg_224/Type_1_seg_224/10 (2)-resnet-152.npy\n",
      "2017-06-09 22:56:59 3th/8212 img calc and save feats:1.3156 path:/media/yuens/WIN10-ENTERTENMENT/Kaggle/Intel-CCS/train_add_seg_224/Type_1_seg_224/10-resnet-152.npy\n",
      "2017-06-09 22:57:00 4th/8212 img calc and save feats:1.1061 path:/media/yuens/WIN10-ENTERTENMENT/Kaggle/Intel-CCS/train_add_seg_224/Type_1_seg_224/1000-resnet-152.npy\n",
      "2017-06-09 22:57:01 5th/8212 img calc and save feats:1.8366 path:/media/yuens/WIN10-ENTERTENMENT/Kaggle/Intel-CCS/train_add_seg_224/Type_1_seg_224/1928-resnet-152.npy\n",
      "2017-06-09 22:57:03 6th/8212 img"
     ]
    },
    {
     "ename": "KeyboardInterrupt",
     "evalue": "",
     "output_type": "error",
     "traceback": [
      "\u001b[0;31m---------------------------------------------------------------------------\u001b[0m",
      "\u001b[0;31mKeyboardInterrupt\u001b[0m                         Traceback (most recent call last)",
      "\u001b[0;32m<ipython-input-65-6c77f08cf7b5>\u001b[0m in \u001b[0;36m<module>\u001b[0;34m()\u001b[0m\n\u001b[1;32m     42\u001b[0m         \u001b[0mimg\u001b[0m \u001b[0;34m=\u001b[0m \u001b[0mget_image\u001b[0m\u001b[0;34m(\u001b[0m\u001b[0mimg_path\u001b[0m\u001b[0;34m)\u001b[0m\u001b[0;34m\u001b[0m\u001b[0m\n\u001b[1;32m     43\u001b[0m         \u001b[0mfeature_extractor\u001b[0m\u001b[0;34m.\u001b[0m\u001b[0mforward\u001b[0m\u001b[0;34m(\u001b[0m\u001b[0mBatch\u001b[0m\u001b[0;34m(\u001b[0m\u001b[0;34m[\u001b[0m\u001b[0mmx\u001b[0m\u001b[0;34m.\u001b[0m\u001b[0mnd\u001b[0m\u001b[0;34m.\u001b[0m\u001b[0marray\u001b[0m\u001b[0;34m(\u001b[0m\u001b[0mimg\u001b[0m\u001b[0;34m)\u001b[0m\u001b[0;34m]\u001b[0m\u001b[0;34m)\u001b[0m\u001b[0;34m)\u001b[0m\u001b[0;34m\u001b[0m\u001b[0m\n\u001b[0;32m---> 44\u001b[0;31m         \u001b[0mfeats\u001b[0m \u001b[0;34m=\u001b[0m \u001b[0mfeature_extractor\u001b[0m\u001b[0;34m.\u001b[0m\u001b[0mget_outputs\u001b[0m\u001b[0;34m(\u001b[0m\u001b[0;34m)\u001b[0m\u001b[0;34m[\u001b[0m\u001b[0;36m0\u001b[0m\u001b[0;34m]\u001b[0m\u001b[0;34m.\u001b[0m\u001b[0masnumpy\u001b[0m\u001b[0;34m(\u001b[0m\u001b[0;34m)\u001b[0m\u001b[0;34m\u001b[0m\u001b[0m\n\u001b[0m\u001b[1;32m     45\u001b[0m \u001b[0;34m\u001b[0m\u001b[0m\n\u001b[1;32m     46\u001b[0m         \u001b[0;31m#####################\u001b[0m\u001b[0;34m\u001b[0m\u001b[0;34m\u001b[0m\u001b[0m\n",
      "\u001b[0;32m/usr/local/lib/anaconda2/lib/python2.7/site-packages/mxnet-0.9.4-py2.7-linux-x86_64.egg/mxnet/ndarray.pyc\u001b[0m in \u001b[0;36masnumpy\u001b[0;34m(self)\u001b[0m\n\u001b[1;32m    498\u001b[0m             \u001b[0mself\u001b[0m\u001b[0;34m.\u001b[0m\u001b[0mhandle\u001b[0m\u001b[0;34m,\u001b[0m\u001b[0;34m\u001b[0m\u001b[0m\n\u001b[1;32m    499\u001b[0m             \u001b[0mdata\u001b[0m\u001b[0;34m.\u001b[0m\u001b[0mctypes\u001b[0m\u001b[0;34m.\u001b[0m\u001b[0mdata_as\u001b[0m\u001b[0;34m(\u001b[0m\u001b[0mctypes\u001b[0m\u001b[0;34m.\u001b[0m\u001b[0mc_void_p\u001b[0m\u001b[0;34m)\u001b[0m\u001b[0;34m,\u001b[0m\u001b[0;34m\u001b[0m\u001b[0m\n\u001b[0;32m--> 500\u001b[0;31m             ctypes.c_size_t(data.size)))\n\u001b[0m\u001b[1;32m    501\u001b[0m         \u001b[0;32mreturn\u001b[0m \u001b[0mdata\u001b[0m\u001b[0;34m\u001b[0m\u001b[0m\n\u001b[1;32m    502\u001b[0m \u001b[0;34m\u001b[0m\u001b[0m\n",
      "\u001b[0;31mKeyboardInterrupt\u001b[0m: "
     ]
    },
    {
     "name": "stderr",
     "output_type": "stream",
     "text": [
      "/usr/local/lib/anaconda2/lib/python2.7/json/encoder.py:207: DeprecationWarning: Interpreting naive datetime as local 2017-06-09 22:56:56.212711. Please add timezone info to timestamps.\n",
      "  chunks = self.iterencode(o, _one_shot=True)\n"
     ]
    }
   ],
   "source": [
    "import mxnet as mx\n",
    "from collections import namedtuple\n",
    "import time, datetime\n",
    "\n",
    "################################################\n",
    "# parameter initialization                     #\n",
    "################################################\n",
    "\n",
    "####################################\n",
    "# extract feature on training set  #\n",
    "####################################\n",
    "\n",
    "Batch = namedtuple('Batch', ['data'])\n",
    "train_img_path = \"/media/yuens/WIN10-ENTERTENMENT/Kaggle/Intel-CCS/train_add_seg_224\"\n",
    "img_path_list = get_train_img_list(train_img_path)\n",
    "feats_save_path_list = map(lambda img_path: img_path.replace(\"jpg\", \"npy\"), img_path_list)\n",
    "model_path = \"../model\"\n",
    "prefix_list = [\"finetune-resnet-152-train-add-seg-224\",\\\n",
    "               \"finetune-resnet-200-train-add-seg-224\",\\\n",
    "               \"finetune-resnext-50-train-add-seg-224-lr-0.01\"]\n",
    "epoch_list = [3, 3, 3]\n",
    "feats_save_prefix_list = [\"resnet-152\",\\\n",
    "                          \"resnet-200\",\\\n",
    "                          \"resnext-50\"]\n",
    "synset_path=\"../model/synset.txt\"\n",
    "synsets = get_synset(synset_path)\n",
    "\n",
    "################################################\n",
    "# extract feature using each pretrained model  #\n",
    "################################################\n",
    "\n",
    "for m_idx in xrange(len(prefix_list)):\n",
    "    prefix = \"/\".join([model_path, prefix_list[m_idx]])\n",
    "    epoch = epoch_list[m_idx]\n",
    "    feats_save_prefix = feats_save_prefix_list[m_idx]\n",
    "    feature_extractor = get_feature_extractor(prefix, epoch)\n",
    "    \n",
    "    for img_idx in xrange(len(img_path_list)):\n",
    "        time_stamp = datetime.datetime.now()\n",
    "        print(\"{} {}th/{} img\".format(time_stamp.strftime('%Y-%m-%d %H:%M:%S'), img_idx+1, len(img_path_list))),\n",
    "        \n",
    "        start_extract = time.time()\n",
    "        \n",
    "        img_path = img_path_list[img_idx]\n",
    "        feats_save_path = feats_save_path_list[img_idx]\n",
    "        img = get_image(img_path)\n",
    "        feature_extractor.forward(Batch([mx.nd.array(img)]))\n",
    "        feats = feature_extractor.get_outputs()[0].asnumpy()\n",
    "        \n",
    "        #####################\n",
    "        # check features    #\n",
    "        #####################\n",
    "        #print feats.shape\n",
    "        \n",
    "        feats_save_path = feats_save_path.replace(\".\", \"-\"+feats_save_prefix+\".\")\n",
    "        #####################\n",
    "        # save features     #\n",
    "        #####################\n",
    "        #np.save(feats_save_path, feats)\n",
    "        \n",
    "        finish_extract = time.time()\n",
    "        duration_extract = finish_extract - start_extract\n",
    "        \n",
    "        print(\"calc and save feats:{:.4f} path:{}\".format(duration_extract, feats_save_path))"
   ]
  },
  {
   "cell_type": "markdown",
   "metadata": {},
   "source": [
    "Extract test image features."
   ]
  },
  {
   "cell_type": "code",
   "execution_count": 75,
   "metadata": {
    "collapsed": false
   },
   "outputs": [
    {
     "name": "stderr",
     "output_type": "stream",
     "text": [
      "/usr/local/lib/anaconda2/lib/python2.7/json/encoder.py:207: DeprecationWarning: Interpreting naive datetime as local 2017-06-09 23:01:25.816570. Please add timezone info to timestamps.\n",
      "  chunks = self.iterencode(o, _one_shot=True)\n"
     ]
    }
   ],
   "source": [
    "import os\n",
    "\n",
    "def get_test_img_list(test_img_path):\n",
    "    img_list = filter(lambda p: p[-4:] == \".jpg\", os.listdir(test_img_path))\n",
    "    return map(lambda img_name: \"/\".join([test_img_path, img_name]), img_list)"
   ]
  },
  {
   "cell_type": "code",
   "execution_count": 77,
   "metadata": {
    "collapsed": false
   },
   "outputs": [
    {
     "name": "stdout",
     "output_type": "stream",
     "text": [
      "512\n",
      "['/media/yuens/WIN10-ENTERTENMENT/Kaggle/Intel-CCS/test/test_seg_224/0.jpg', '/media/yuens/WIN10-ENTERTENMENT/Kaggle/Intel-CCS/test/test_seg_224/1.jpg', '/media/yuens/WIN10-ENTERTENMENT/Kaggle/Intel-CCS/test/test_seg_224/10.jpg', '/media/yuens/WIN10-ENTERTENMENT/Kaggle/Intel-CCS/test/test_seg_224/100.jpg', '/media/yuens/WIN10-ENTERTENMENT/Kaggle/Intel-CCS/test/test_seg_224/101.jpg', '/media/yuens/WIN10-ENTERTENMENT/Kaggle/Intel-CCS/test/test_seg_224/102.jpg', '/media/yuens/WIN10-ENTERTENMENT/Kaggle/Intel-CCS/test/test_seg_224/103.jpg', '/media/yuens/WIN10-ENTERTENMENT/Kaggle/Intel-CCS/test/test_seg_224/104.jpg', '/media/yuens/WIN10-ENTERTENMENT/Kaggle/Intel-CCS/test/test_seg_224/105.jpg', '/media/yuens/WIN10-ENTERTENMENT/Kaggle/Intel-CCS/test/test_seg_224/106.jpg']\n"
     ]
    },
    {
     "name": "stderr",
     "output_type": "stream",
     "text": [
      "/usr/local/lib/anaconda2/lib/python2.7/json/encoder.py:207: DeprecationWarning: Interpreting naive datetime as local 2017-06-09 23:01:34.570510. Please add timezone info to timestamps.\n",
      "  chunks = self.iterencode(o, _one_shot=True)\n"
     ]
    }
   ],
   "source": [
    "###############################\n",
    "# just for test               #\n",
    "###############################\n",
    "\n",
    "test_img_path = \"/media/yuens/WIN10-ENTERTENMENT/Kaggle/Intel-CCS/test/test_seg_224\"\n",
    "test_img_list = get_test_img_list(test_img_path)\n",
    "print len(test_img_list)\n",
    "print test_img_list[:10]"
   ]
  },
  {
   "cell_type": "code",
   "execution_count": null,
   "metadata": {
    "collapsed": false
   },
   "outputs": [
    {
     "name": "stdout",
     "output_type": "stream",
     "text": [
      " 2017-06-09 23:02:27 1th/512 img calc and save feats:1.0504 path:/media/yuens/WIN10-ENTERTENMENT/Kaggle/Intel-CCS/test/test_seg_224/0-resnet-152.npy\n",
      "2017-06-09 23:02:28 2th/512 img calc and save feats:0.9712 path:/media/yuens/WIN10-ENTERTENMENT/Kaggle/Intel-CCS/test/test_seg_224/1-resnet-152.npy\n",
      "2017-06-09 23:02:29 3th/512 img calc and save feats:1.0169 path:/media/yuens/WIN10-ENTERTENMENT/Kaggle/Intel-CCS/test/test_seg_224/10-resnet-152.npy\n",
      "2017-06-09 23:02:30 4th/512 img calc and save feats:1.3943 path:/media/yuens/WIN10-ENTERTENMENT/Kaggle/Intel-CCS/test/test_seg_224/100-resnet-152.npy\n",
      "2017-06-09 23:02:32 5th/512 img calc and save feats:1.1143 path:/media/yuens/WIN10-ENTERTENMENT/Kaggle/Intel-CCS/test/test_seg_224/101-resnet-152.npy\n",
      "2017-06-09 23:02:33 6th/512 img calc and save feats:1.2884 path:/media/yuens/WIN10-ENTERTENMENT/Kaggle/Intel-CCS/test/test_seg_224/102-resnet-152.npy\n",
      "2017-06-09 23:02:34 7th/512 img calc and save feats:1.0203 path:/media/yuens/WIN10-ENTERTENMENT/Kaggle/Intel-CCS/test/test_seg_224/103-resnet-152.npy\n",
      "2017-06-09 23:02:35 8th/512 img calc and save feats:1.2436 path:/media/yuens/WIN10-ENTERTENMENT/Kaggle/Intel-CCS/test/test_seg_224/104-resnet-152.npy\n",
      "2017-06-09 23:02:36 9th/512 img calc and save feats:1.2458 path:/media/yuens/WIN10-ENTERTENMENT/Kaggle/Intel-CCS/test/test_seg_224/105-resnet-152.npy\n",
      "2017-06-09 23:02:37 10th/512 img calc and save feats:1.4504 path:/media/yuens/WIN10-ENTERTENMENT/Kaggle/Intel-CCS/test/test_seg_224/118-resnet-152.npy\n",
      "2017-06-09 23:02:39 11th/512 img calc and save feats:1.2742 path:/media/yuens/WIN10-ENTERTENMENT/Kaggle/Intel-CCS/test/test_seg_224/119-resnet-152.npy\n",
      "2017-06-09 23:02:40 12th/512 img calc and save feats:1.2277 path:/media/yuens/WIN10-ENTERTENMENT/Kaggle/Intel-CCS/test/test_seg_224/12-resnet-152.npy\n",
      "2017-06-09 23:02:41 13th/512 img calc and save feats:0.9164 path:/media/yuens/WIN10-ENTERTENMENT/Kaggle/Intel-CCS/test/test_seg_224/120-resnet-152.npy\n",
      "2017-06-09 23:02:42 14th/512 img calc and save feats:1.1523 path:/media/yuens/WIN10-ENTERTENMENT/Kaggle/Intel-CCS/test/test_seg_224/121-resnet-152.npy\n",
      "2017-06-09 23:02:43 15th/512 img calc and save feats:0.9855 path:/media/yuens/WIN10-ENTERTENMENT/Kaggle/Intel-CCS/test/test_seg_224/122-resnet-152.npy\n",
      "2017-06-09 23:02:44 16th/512 img calc and save feats:1.2943 path:/media/yuens/WIN10-ENTERTENMENT/Kaggle/Intel-CCS/test/test_seg_224/123-resnet-152.npy\n",
      "2017-06-09 23:02:46 17th/512 img calc and save feats:1.5788 path:/media/yuens/WIN10-ENTERTENMENT/Kaggle/Intel-CCS/test/test_seg_224/124-resnet-152.npy\n",
      "2017-06-09 23:02:47 18th/512 img calc and save feats:1.1055 path:/media/yuens/WIN10-ENTERTENMENT/Kaggle/Intel-CCS/test/test_seg_224/125-resnet-152.npy\n",
      "2017-06-09 23:02:48 19th/512 img calc and save feats:0.9735 path:/media/yuens/WIN10-ENTERTENMENT/Kaggle/Intel-CCS/test/test_seg_224/126-resnet-152.npy\n",
      "2017-06-09 23:02:49 20th/512 img calc and save feats:1.0247 path:/media/yuens/WIN10-ENTERTENMENT/Kaggle/Intel-CCS/test/test_seg_224/127-resnet-152.npy\n",
      "2017-06-09 23:02:50 21th/512 img calc and save feats:0.8730 path:/media/yuens/WIN10-ENTERTENMENT/Kaggle/Intel-CCS/test/test_seg_224/128-resnet-152.npy\n",
      "2017-06-09 23:02:51 22th/512 img calc and save feats:0.8962 path:/media/yuens/WIN10-ENTERTENMENT/Kaggle/Intel-CCS/test/test_seg_224/129-resnet-152.npy\n",
      "2017-06-09 23:02:52 23th/512 img calc and save feats:1.0677 path:/media/yuens/WIN10-ENTERTENMENT/Kaggle/Intel-CCS/test/test_seg_224/13-resnet-152.npy\n",
      "2017-06-09 23:02:53 24th/512 img calc and save feats:1.3343 path:/media/yuens/WIN10-ENTERTENMENT/Kaggle/Intel-CCS/test/test_seg_224/130-resnet-152.npy\n",
      "2017-06-09 23:02:55 25th/512 img calc and save feats:0.9929 path:/media/yuens/WIN10-ENTERTENMENT/Kaggle/Intel-CCS/test/test_seg_224/131-resnet-152.npy\n",
      "2017-06-09 23:02:56 26th/512 img calc and save feats:0.9532 path:/media/yuens/WIN10-ENTERTENMENT/Kaggle/Intel-CCS/test/test_seg_224/132-resnet-152.npy\n",
      "2017-06-09 23:02:57 27th/512 img calc and save feats:1.5536 path:/media/yuens/WIN10-ENTERTENMENT/Kaggle/Intel-CCS/test/test_seg_224/133-resnet-152.npy\n",
      "2017-06-09 23:02:58 28th/512 img calc and save feats:1.4579 path:/media/yuens/WIN10-ENTERTENMENT/Kaggle/Intel-CCS/test/test_seg_224/134-resnet-152.npy\n",
      "2017-06-09 23:03:00 29th/512 img calc and save feats:0.9588 path:/media/yuens/WIN10-ENTERTENMENT/Kaggle/Intel-CCS/test/test_seg_224/135-resnet-152.npy\n",
      "2017-06-09 23:03:01 30th/512 img calc and save feats:1.1442 path:/media/yuens/WIN10-ENTERTENMENT/Kaggle/Intel-CCS/test/test_seg_224/136-resnet-152.npy\n",
      "2017-06-09 23:03:02 31th/512 img calc and save feats:0.9643 path:/media/yuens/WIN10-ENTERTENMENT/Kaggle/Intel-CCS/test/test_seg_224/138-resnet-152.npy\n",
      "2017-06-09 23:03:03 32th/512 img calc and save feats:1.1412 path:/media/yuens/WIN10-ENTERTENMENT/Kaggle/Intel-CCS/test/test_seg_224/139-resnet-152.npy\n",
      "2017-06-09 23:03:04 33th/512 img calc and save feats:1.2297 path:/media/yuens/WIN10-ENTERTENMENT/Kaggle/Intel-CCS/test/test_seg_224/14-resnet-152.npy\n",
      "2017-06-09 23:03:05 34th/512 img calc and save feats:0.8726 path:/media/yuens/WIN10-ENTERTENMENT/Kaggle/Intel-CCS/test/test_seg_224/140-resnet-152.npy\n",
      "2017-06-09 23:03:06 35th/512 img calc and save feats:1.1368 path:/media/yuens/WIN10-ENTERTENMENT/Kaggle/Intel-CCS/test/test_seg_224/141-resnet-152.npy\n",
      "2017-06-09 23:03:07 36th/512 img calc and save feats:1.7310 path:/media/yuens/WIN10-ENTERTENMENT/Kaggle/Intel-CCS/test/test_seg_224/142-resnet-152.npy\n",
      "2017-06-09 23:03:09 37th/512 img calc and save feats:1.0103 path:/media/yuens/WIN10-ENTERTENMENT/Kaggle/Intel-CCS/test/test_seg_224/143-resnet-152.npy\n",
      "2017-06-09 23:03:10 38th/512 img calc and save feats:1.0076 path:/media/yuens/WIN10-ENTERTENMENT/Kaggle/Intel-CCS/test/test_seg_224/144-resnet-152.npy\n",
      "2017-06-09 23:03:11 39th/512 img calc and save feats:1.6234 path:/media/yuens/WIN10-ENTERTENMENT/Kaggle/Intel-CCS/test/test_seg_224/145-resnet-152.npy\n",
      "2017-06-09 23:03:12 40th/512 img calc and save feats:1.0147 path:/media/yuens/WIN10-ENTERTENMENT/Kaggle/Intel-CCS/test/test_seg_224/146-resnet-152.npy\n",
      "2017-06-09 23:03:13 41th/512 img calc and save feats:2.2360 path:/media/yuens/WIN10-ENTERTENMENT/Kaggle/Intel-CCS/test/test_seg_224/147-resnet-152.npy\n",
      "2017-06-09 23:03:16 42th/512 img calc and save feats:1.7865 path:/media/yuens/WIN10-ENTERTENMENT/Kaggle/Intel-CCS/test/test_seg_224/148-resnet-152.npy\n",
      "2017-06-09 23:03:17 43th/512 img calc and save feats:1.1608 path:/media/yuens/WIN10-ENTERTENMENT/Kaggle/Intel-CCS/test/test_seg_224/149-resnet-152.npy\n",
      "2017-06-09 23:03:19 44th/512 img calc and save feats:1.0611 path:/media/yuens/WIN10-ENTERTENMENT/Kaggle/Intel-CCS/test/test_seg_224/15-resnet-152.npy\n",
      "2017-06-09 23:03:20 45th/512 img calc and save feats:1.6171 path:/media/yuens/WIN10-ENTERTENMENT/Kaggle/Intel-CCS/test/test_seg_224/150-resnet-152.npy\n",
      "2017-06-09 23:03:21 46th/512 img calc and save feats:2.4439 path:/media/yuens/WIN10-ENTERTENMENT/Kaggle/Intel-CCS/test/test_seg_224/151-resnet-152.npy\n",
      "2017-06-09 23:03:24 47th/512 img calc and save feats:2.0847 path:/media/yuens/WIN10-ENTERTENMENT/Kaggle/Intel-CCS/test/test_seg_224/152-resnet-152.npy\n",
      "2017-06-09 23:03:26 48th/512 img calc and save feats:1.9881 path:/media/yuens/WIN10-ENTERTENMENT/Kaggle/Intel-CCS/test/test_seg_224/153-resnet-152.npy\n",
      "2017-06-09 23:03:28 49th/512 img calc and save feats:2.0414 path:/media/yuens/WIN10-ENTERTENMENT/Kaggle/Intel-CCS/test/test_seg_224/154-resnet-152.npy\n",
      "2017-06-09 23:03:30 50th/512 img calc and save feats:1.2752 path:/media/yuens/WIN10-ENTERTENMENT/Kaggle/Intel-CCS/test/test_seg_224/155-resnet-152.npy\n",
      "2017-06-09 23:03:31 51th/512 img calc and save feats:1.3551 path:/media/yuens/WIN10-ENTERTENMENT/Kaggle/Intel-CCS/test/test_seg_224/156-resnet-152.npy\n",
      "2017-06-09 23:03:32 52th/512 img calc and save feats:2.3878 path:/media/yuens/WIN10-ENTERTENMENT/Kaggle/Intel-CCS/test/test_seg_224/158-resnet-152.npy\n",
      "2017-06-09 23:03:35 53th/512 img calc and save feats:1.6056 path:/media/yuens/WIN10-ENTERTENMENT/Kaggle/Intel-CCS/test/test_seg_224/159-resnet-152.npy\n",
      "2017-06-09 23:03:36 54th/512 img calc and save feats:1.4189 path:/media/yuens/WIN10-ENTERTENMENT/Kaggle/Intel-CCS/test/test_seg_224/16-resnet-152.npy\n",
      "2017-06-09 23:03:38 55th/512 img calc and save feats:1.5382 path:/media/yuens/WIN10-ENTERTENMENT/Kaggle/Intel-CCS/test/test_seg_224/160-resnet-152.npy\n",
      "2017-06-09 23:03:39 56th/512 img calc and save feats:1.1495 path:/media/yuens/WIN10-ENTERTENMENT/Kaggle/Intel-CCS/test/test_seg_224/161-resnet-152.npy\n",
      "2017-06-09 23:03:41 57th/512 img calc and save feats:1.7162 path:/media/yuens/WIN10-ENTERTENMENT/Kaggle/Intel-CCS/test/test_seg_224/162-resnet-152.npy\n",
      "2017-06-09 23:03:42 58th/512 img calc and save feats:0.9974 path:/media/yuens/WIN10-ENTERTENMENT/Kaggle/Intel-CCS/test/test_seg_224/163-resnet-152.npy\n",
      "2017-06-09 23:03:43 59th/512 img calc and save feats:1.1209 path:/media/yuens/WIN10-ENTERTENMENT/Kaggle/Intel-CCS/test/test_seg_224/164-resnet-152.npy\n",
      "2017-06-09 23:03:44 60th/512 img calc and save feats:1.1681 path:/media/yuens/WIN10-ENTERTENMENT/Kaggle/Intel-CCS/test/test_seg_224/165-resnet-152.npy\n",
      "2017-06-09 23:03:46 61th/512 img calc and save feats:1.0571 path:/media/yuens/WIN10-ENTERTENMENT/Kaggle/Intel-CCS/test/test_seg_224/166-resnet-152.npy\n",
      "2017-06-09 23:03:47 62th/512 img calc and save feats:1.2687 path:/media/yuens/WIN10-ENTERTENMENT/Kaggle/Intel-CCS/test/test_seg_224/167-resnet-152.npy\n",
      "2017-06-09 23:03:48 63th/512 img calc and save feats:1.0493 path:/media/yuens/WIN10-ENTERTENMENT/Kaggle/Intel-CCS/test/test_seg_224/168-resnet-152.npy\n",
      "2017-06-09 23:03:49 64th/512 img calc and save feats:1.3153 path:/media/yuens/WIN10-ENTERTENMENT/Kaggle/Intel-CCS/test/test_seg_224/169-resnet-152.npy\n",
      "2017-06-09 23:03:50 65th/512 img calc and save feats:1.7791 path:/media/yuens/WIN10-ENTERTENMENT/Kaggle/Intel-CCS/test/test_seg_224/17-resnet-152.npy\n",
      "2017-06-09 23:03:52 66th/512 img calc and save feats:2.0531 path:/media/yuens/WIN10-ENTERTENMENT/Kaggle/Intel-CCS/test/test_seg_224/170-resnet-152.npy\n",
      "2017-06-09 23:03:54 67th/512 img calc and save feats:1.6052 path:/media/yuens/WIN10-ENTERTENMENT/Kaggle/Intel-CCS/test/test_seg_224/171-resnet-152.npy\n",
      "2017-06-09 23:03:56 68th/512 img calc and save feats:1.4464 path:/media/yuens/WIN10-ENTERTENMENT/Kaggle/Intel-CCS/test/test_seg_224/172-resnet-152.npy\n",
      "2017-06-09 23:03:57 69th/512 img calc and save feats:1.1185 path:/media/yuens/WIN10-ENTERTENMENT/Kaggle/Intel-CCS/test/test_seg_224/173-resnet-152.npy\n",
      "2017-06-09 23:03:58 70th/512 img calc and save feats:1.4035 path:/media/yuens/WIN10-ENTERTENMENT/Kaggle/Intel-CCS/test/test_seg_224/174-resnet-152.npy\n",
      "2017-06-09 23:04:00 71th/512 img calc and save feats:1.2625 path:/media/yuens/WIN10-ENTERTENMENT/Kaggle/Intel-CCS/test/test_seg_224/175-resnet-152.npy\n",
      "2017-06-09 23:04:01 72th/512 img calc and save feats:1.0038 path:/media/yuens/WIN10-ENTERTENMENT/Kaggle/Intel-CCS/test/test_seg_224/176-resnet-152.npy\n",
      "2017-06-09 23:04:02 73th/512 img calc and save feats:1.0821 path:/media/yuens/WIN10-ENTERTENMENT/Kaggle/Intel-CCS/test/test_seg_224/178-resnet-152.npy\n",
      "2017-06-09 23:04:03 74th/512 img calc and save feats:0.9898 path:/media/yuens/WIN10-ENTERTENMENT/Kaggle/Intel-CCS/test/test_seg_224/179-resnet-152.npy\n",
      "2017-06-09 23:04:04 75th/512 img calc and save feats:1.2431 path:/media/yuens/WIN10-ENTERTENMENT/Kaggle/Intel-CCS/test/test_seg_224/18-resnet-152.npy\n",
      "2017-06-09 23:04:05 76th/512 img calc and save feats:1.0441 path:/media/yuens/WIN10-ENTERTENMENT/Kaggle/Intel-CCS/test/test_seg_224/180-resnet-152.npy\n",
      "2017-06-09 23:04:06 77th/512 img calc and save feats:1.1165 path:/media/yuens/WIN10-ENTERTENMENT/Kaggle/Intel-CCS/test/test_seg_224/181-resnet-152.npy\n",
      "2017-06-09 23:04:07 78th/512 img calc and save feats:1.2199 path:/media/yuens/WIN10-ENTERTENMENT/Kaggle/Intel-CCS/test/test_seg_224/182-resnet-152.npy\n",
      "2017-06-09 23:04:09 79th/512 img calc and save feats:1.4131 path:/media/yuens/WIN10-ENTERTENMENT/Kaggle/Intel-CCS/test/test_seg_224/183-resnet-152.npy\n",
      "2017-06-09 23:04:10 80th/512 img calc and save feats:1.3583 path:/media/yuens/WIN10-ENTERTENMENT/Kaggle/Intel-CCS/test/test_seg_224/184-resnet-152.npy\n",
      "2017-06-09 23:04:11 81th/512 img calc and save feats:1.6058 path:/media/yuens/WIN10-ENTERTENMENT/Kaggle/Intel-CCS/test/test_seg_224/185-resnet-152.npy\n",
      "2017-06-09 23:04:13 82th/512 img calc and save feats:1.8399 path:/media/yuens/WIN10-ENTERTENMENT/Kaggle/Intel-CCS/test/test_seg_224/186-resnet-152.npy\n",
      "2017-06-09 23:04:15 83th/512 img calc and save feats:1.3260 path:/media/yuens/WIN10-ENTERTENMENT/Kaggle/Intel-CCS/test/test_seg_224/187-resnet-152.npy\n",
      "2017-06-09 23:04:16 84th/512 img calc and save feats:1.1962 path:/media/yuens/WIN10-ENTERTENMENT/Kaggle/Intel-CCS/test/test_seg_224/188-resnet-152.npy\n",
      "2017-06-09 23:04:17 85th/512 img calc and save feats:1.0893 path:/media/yuens/WIN10-ENTERTENMENT/Kaggle/Intel-CCS/test/test_seg_224/189-resnet-152.npy\n",
      "2017-06-09 23:04:18 86th/512 img calc and save feats:1.0653 path:/media/yuens/WIN10-ENTERTENMENT/Kaggle/Intel-CCS/test/test_seg_224/19-resnet-152.npy\n",
      "2017-06-09 23:04:20 87th/512 img calc and save feats:1.0618 path:/media/yuens/WIN10-ENTERTENMENT/Kaggle/Intel-CCS/test/test_seg_224/190-resnet-152.npy\n",
      "2017-06-09 23:04:21 88th/512 img calc and save feats:0.9805 path:/media/yuens/WIN10-ENTERTENMENT/Kaggle/Intel-CCS/test/test_seg_224/191-resnet-152.npy\n",
      "2017-06-09 23:04:22 89th/512 img calc and save feats:0.9633 path:/media/yuens/WIN10-ENTERTENMENT/Kaggle/Intel-CCS/test/test_seg_224/192-resnet-152.npy\n",
      "2017-06-09 23:04:23 90th/512 img calc and save feats:1.0435 path:/media/yuens/WIN10-ENTERTENMENT/Kaggle/Intel-CCS/test/test_seg_224/193-resnet-152.npy\n",
      "2017-06-09 23:04:24 91th/512 img calc and save feats:1.2008 path:/media/yuens/WIN10-ENTERTENMENT/Kaggle/Intel-CCS/test/test_seg_224/194-resnet-152.npy\n",
      "2017-06-09 23:04:25 92th/512 img calc and save feats:1.2288 path:/media/yuens/WIN10-ENTERTENMENT/Kaggle/Intel-CCS/test/test_seg_224/195-resnet-152.npy\n",
      "2017-06-09 23:04:26 93th/512 img calc and save feats:1.5622 path:/media/yuens/WIN10-ENTERTENMENT/Kaggle/Intel-CCS/test/test_seg_224/196-resnet-152.npy\n",
      "2017-06-09 23:04:28 94th/512 img calc and save feats:1.2403 path:/media/yuens/WIN10-ENTERTENMENT/Kaggle/Intel-CCS/test/test_seg_224/117-resnet-152.npy\n",
      "2017-06-09 23:04:29 95th/512 img calc and save feats:1.0973 path:/media/yuens/WIN10-ENTERTENMENT/Kaggle/Intel-CCS/test/test_seg_224/137-resnet-152.npy\n",
      "2017-06-09 23:04:30 96th/512 img calc and save feats:0.8518 path:/media/yuens/WIN10-ENTERTENMENT/Kaggle/Intel-CCS/test/test_seg_224/157-resnet-152.npy\n",
      "2017-06-09 23:04:31 97th/512 img calc and save feats:1.0670 path:/media/yuens/WIN10-ENTERTENMENT/Kaggle/Intel-CCS/test/test_seg_224/177-resnet-152.npy\n",
      "2017-06-09 23:04:32 98th/512 img calc and save feats:1.0516 path:/media/yuens/WIN10-ENTERTENMENT/Kaggle/Intel-CCS/test/test_seg_224/197-resnet-152.npy\n",
      "2017-06-09 23:04:33 99th/512 img calc and save feats:1.0352 path:/media/yuens/WIN10-ENTERTENMENT/Kaggle/Intel-CCS/test/test_seg_224/215-resnet-152.npy\n",
      "2017-06-09 23:04:34 100th/512 img calc and save feats:1.1363 path:/media/yuens/WIN10-ENTERTENMENT/Kaggle/Intel-CCS/test/test_seg_224/234-resnet-152.npy\n",
      "2017-06-09 23:04:35 101th/512 img calc and save feats:1.1519 path:/media/yuens/WIN10-ENTERTENMENT/Kaggle/Intel-CCS/test/test_seg_224/253-resnet-152.npy\n",
      "2017-06-09 23:04:36 102th/512 img calc and save feats:1.1381 path:/media/yuens/WIN10-ENTERTENMENT/Kaggle/Intel-CCS/test/test_seg_224/272-resnet-152.npy\n",
      "2017-06-09 23:04:37 103th/512 img calc and save feats:0.9421 path:/media/yuens/WIN10-ENTERTENMENT/Kaggle/Intel-CCS/test/test_seg_224/291-resnet-152.npy\n",
      "2017-06-09 23:04:38 104th/512 img calc and save feats:1.1191 path:/media/yuens/WIN10-ENTERTENMENT/Kaggle/Intel-CCS/test/test_seg_224/31-resnet-152.npy\n",
      "2017-06-09 23:04:39 105th/512 img calc and save feats:0.8856 path:/media/yuens/WIN10-ENTERTENMENT/Kaggle/Intel-CCS/test/test_seg_224/329-resnet-152.npy\n",
      "2017-06-09 23:04:40 106th/512 img calc and save feats:1.0113 path:/media/yuens/WIN10-ENTERTENMENT/Kaggle/Intel-CCS/test/test_seg_224/348-resnet-152.npy\n",
      "2017-06-09 23:04:41 107th/512 img calc and save feats:1.0346 path:/media/yuens/WIN10-ENTERTENMENT/Kaggle/Intel-CCS/test/test_seg_224/367-resnet-152.npy\n",
      "2017-06-09 23:04:42 108th/512 img calc and save feats:1.0682 path:/media/yuens/WIN10-ENTERTENMENT/Kaggle/Intel-CCS/test/test_seg_224/386-resnet-152.npy\n",
      "2017-06-09 23:04:43 109th/512 img calc and save feats:1.0587 path:/media/yuens/WIN10-ENTERTENMENT/Kaggle/Intel-CCS/test/test_seg_224/404-resnet-152.npy\n",
      "2017-06-09 23:04:44 110th/512 img calc and save feats:0.9276 path:/media/yuens/WIN10-ENTERTENMENT/Kaggle/Intel-CCS/test/test_seg_224/423-resnet-152.npy\n",
      "2017-06-09 23:04:45 111th/512 img calc and save feats:1.0305 path:/media/yuens/WIN10-ENTERTENMENT/Kaggle/Intel-CCS/test/test_seg_224/442-resnet-152.npy\n",
      "2017-06-09 23:04:46 112th/512 img calc and save feats:1.1663 path:/media/yuens/WIN10-ENTERTENMENT/Kaggle/Intel-CCS/test/test_seg_224/461-resnet-152.npy\n",
      "2017-06-09 23:04:48 113th/512 img calc and save feats:1.0313 path:/media/yuens/WIN10-ENTERTENMENT/Kaggle/Intel-CCS/test/test_seg_224/480-resnet-152.npy\n",
      "2017-06-09 23:04:49 114th/512 img calc and save feats:1.0057 path:/media/yuens/WIN10-ENTERTENMENT/Kaggle/Intel-CCS/test/test_seg_224/5-resnet-152.npy\n",
      "2017-06-09 23:04:50 115th/512 img calc and save feats:0.8859 path:/media/yuens/WIN10-ENTERTENMENT/Kaggle/Intel-CCS/test/test_seg_224/58-resnet-152.npy\n",
      "2017-06-09 23:04:51 116th/512 img calc and save feats:1.9435 path:/media/yuens/WIN10-ENTERTENMENT/Kaggle/Intel-CCS/test/test_seg_224/77-resnet-152.npy\n",
      "2017-06-09 23:04:52 117th/512 img calc and save feats:1.2926 path:/media/yuens/WIN10-ENTERTENMENT/Kaggle/Intel-CCS/test/test_seg_224/198-resnet-152.npy\n",
      "2017-06-09 23:04:54 118th/512 img calc and save feats:1.7660 path:/media/yuens/WIN10-ENTERTENMENT/Kaggle/Intel-CCS/test/test_seg_224/199-resnet-152.npy\n",
      "2017-06-09 23:04:56 119th/512 img calc and save feats:1.4268 path:/media/yuens/WIN10-ENTERTENMENT/Kaggle/Intel-CCS/test/test_seg_224/2-resnet-152.npy\n",
      "2017-06-09 23:04:57 120th/512 img calc and save feats:1.1571 path:/media/yuens/WIN10-ENTERTENMENT/Kaggle/Intel-CCS/test/test_seg_224/20-resnet-152.npy\n",
      "2017-06-09 23:04:58 121th/512 img calc and save feats:1.3759 path:/media/yuens/WIN10-ENTERTENMENT/Kaggle/Intel-CCS/test/test_seg_224/200-resnet-152.npy\n",
      "2017-06-09 23:04:59 122th/512 img calc and save feats:1.0676 path:/media/yuens/WIN10-ENTERTENMENT/Kaggle/Intel-CCS/test/test_seg_224/201-resnet-152.npy\n",
      "2017-06-09 23:05:01 123th/512 img calc and save feats:1.1101 path:/media/yuens/WIN10-ENTERTENMENT/Kaggle/Intel-CCS/test/test_seg_224/202-resnet-152.npy\n",
      "2017-06-09 23:05:02 124th/512 img calc and save feats:1.0272 path:/media/yuens/WIN10-ENTERTENMENT/Kaggle/Intel-CCS/test/test_seg_224/203-resnet-152.npy\n",
      "2017-06-09 23:05:03 125th/512 img calc and save feats:1.0479 path:/media/yuens/WIN10-ENTERTENMENT/Kaggle/Intel-CCS/test/test_seg_224/204-resnet-152.npy\n",
      "2017-06-09 23:05:04 126th/512 img calc and save feats:0.9419 path:/media/yuens/WIN10-ENTERTENMENT/Kaggle/Intel-CCS/test/test_seg_224/205-resnet-152.npy\n",
      "2017-06-09 23:05:05 127th/512 img calc and save feats:0.8988 path:/media/yuens/WIN10-ENTERTENMENT/Kaggle/Intel-CCS/test/test_seg_224/206-resnet-152.npy\n",
      "2017-06-09 23:05:06 128th/512 img calc and save feats:0.9585 path:/media/yuens/WIN10-ENTERTENMENT/Kaggle/Intel-CCS/test/test_seg_224/207-resnet-152.npy\n",
      "2017-06-09 23:05:07 129th/512 img calc and save feats:1.1618 path:/media/yuens/WIN10-ENTERTENMENT/Kaggle/Intel-CCS/test/test_seg_224/208-resnet-152.npy\n",
      "2017-06-09 23:05:08 130th/512 img calc and save feats:1.0732 path:/media/yuens/WIN10-ENTERTENMENT/Kaggle/Intel-CCS/test/test_seg_224/209-resnet-152.npy\n",
      "2017-06-09 23:05:09 131th/512 img calc and save feats:1.0404 path:/media/yuens/WIN10-ENTERTENMENT/Kaggle/Intel-CCS/test/test_seg_224/21-resnet-152.npy\n",
      "2017-06-09 23:05:10 132th/512 img calc and save feats:1.0130 path:/media/yuens/WIN10-ENTERTENMENT/Kaggle/Intel-CCS/test/test_seg_224/210-resnet-152.npy\n",
      "2017-06-09 23:05:11 133th/512 img calc and save feats:1.0528 path:/media/yuens/WIN10-ENTERTENMENT/Kaggle/Intel-CCS/test/test_seg_224/211-resnet-152.npy\n",
      "2017-06-09 23:05:12 134th/512 img calc and save feats:0.9670 path:/media/yuens/WIN10-ENTERTENMENT/Kaggle/Intel-CCS/test/test_seg_224/212-resnet-152.npy\n",
      "2017-06-09 23:05:13 135th/512 img calc and save feats:1.2734 path:/media/yuens/WIN10-ENTERTENMENT/Kaggle/Intel-CCS/test/test_seg_224/213-resnet-152.npy\n",
      "2017-06-09 23:05:14 136th/512 img calc and save feats:1.9172 path:/media/yuens/WIN10-ENTERTENMENT/Kaggle/Intel-CCS/test/test_seg_224/214-resnet-152.npy\n",
      "2017-06-09 23:05:16 137th/512 img calc and save feats:1.6300 path:/media/yuens/WIN10-ENTERTENMENT/Kaggle/Intel-CCS/test/test_seg_224/216-resnet-152.npy\n",
      "2017-06-09 23:05:18 138th/512 img calc and save feats:1.4991 path:/media/yuens/WIN10-ENTERTENMENT/Kaggle/Intel-CCS/test/test_seg_224/217-resnet-152.npy\n",
      "2017-06-09 23:05:19 139th/512 img calc and save feats:0.9581 path:/media/yuens/WIN10-ENTERTENMENT/Kaggle/Intel-CCS/test/test_seg_224/218-resnet-152.npy\n",
      "2017-06-09 23:05:20 140th/512 img calc and save feats:1.2949 path:/media/yuens/WIN10-ENTERTENMENT/Kaggle/Intel-CCS/test/test_seg_224/219-resnet-152.npy\n",
      "2017-06-09 23:05:21 141th/512 img calc and save feats:2.0916 path:/media/yuens/WIN10-ENTERTENMENT/Kaggle/Intel-CCS/test/test_seg_224/22-resnet-152.npy\n",
      "2017-06-09 23:05:24 142th/512 img calc and save feats:2.9539 path:/media/yuens/WIN10-ENTERTENMENT/Kaggle/Intel-CCS/test/test_seg_224/220-resnet-152.npy\n",
      "2017-06-09 23:05:26 143th/512 img calc and save feats:1.9179 path:/media/yuens/WIN10-ENTERTENMENT/Kaggle/Intel-CCS/test/test_seg_224/221-resnet-152.npy\n",
      "2017-06-09 23:05:28 144th/512 img calc and save feats:1.7332 path:/media/yuens/WIN10-ENTERTENMENT/Kaggle/Intel-CCS/test/test_seg_224/222-resnet-152.npy\n",
      "2017-06-09 23:05:30 145th/512 img calc and save feats:1.0466 path:/media/yuens/WIN10-ENTERTENMENT/Kaggle/Intel-CCS/test/test_seg_224/223-resnet-152.npy\n",
      "2017-06-09 23:05:31 146th/512 img calc and save feats:1.1462 path:/media/yuens/WIN10-ENTERTENMENT/Kaggle/Intel-CCS/test/test_seg_224/224-resnet-152.npy\n",
      "2017-06-09 23:05:32 147th/512 img calc and save feats:1.7874 path:/media/yuens/WIN10-ENTERTENMENT/Kaggle/Intel-CCS/test/test_seg_224/225-resnet-152.npy\n",
      "2017-06-09 23:05:34 148th/512 img calc and save feats:1.2645 path:/media/yuens/WIN10-ENTERTENMENT/Kaggle/Intel-CCS/test/test_seg_224/226-resnet-152.npy\n",
      "2017-06-09 23:05:35 149th/512 img calc and save feats:1.6513 path:/media/yuens/WIN10-ENTERTENMENT/Kaggle/Intel-CCS/test/test_seg_224/227-resnet-152.npy\n",
      "2017-06-09 23:05:37 150th/512 img calc and save feats:1.2800 path:/media/yuens/WIN10-ENTERTENMENT/Kaggle/Intel-CCS/test/test_seg_224/228-resnet-152.npy\n",
      "2017-06-09 23:05:38 151th/512 img calc and save feats:1.5093 path:/media/yuens/WIN10-ENTERTENMENT/Kaggle/Intel-CCS/test/test_seg_224/229-resnet-152.npy\n",
      "2017-06-09 23:05:40 152th/512 img calc and save feats:1.1321 path:/media/yuens/WIN10-ENTERTENMENT/Kaggle/Intel-CCS/test/test_seg_224/23-resnet-152.npy\n",
      "2017-06-09 23:05:41 153th/512 img calc and save feats:1.1146 path:/media/yuens/WIN10-ENTERTENMENT/Kaggle/Intel-CCS/test/test_seg_224/230-resnet-152.npy\n",
      "2017-06-09 23:05:42 154th/512 img calc and save feats:1.4239 path:/media/yuens/WIN10-ENTERTENMENT/Kaggle/Intel-CCS/test/test_seg_224/231-resnet-152.npy\n",
      "2017-06-09 23:05:43 155th/512 img calc and save feats:1.2355 path:/media/yuens/WIN10-ENTERTENMENT/Kaggle/Intel-CCS/test/test_seg_224/232-resnet-152.npy\n",
      "2017-06-09 23:05:45 156th/512 img calc and save feats:0.9539 path:/media/yuens/WIN10-ENTERTENMENT/Kaggle/Intel-CCS/test/test_seg_224/233-resnet-152.npy\n",
      "2017-06-09 23:05:46 157th/512 img calc and save feats:1.5619 path:/media/yuens/WIN10-ENTERTENMENT/Kaggle/Intel-CCS/test/test_seg_224/235-resnet-152.npy\n",
      "2017-06-09 23:05:47 158th/512 img calc and save feats:1.0229 path:/media/yuens/WIN10-ENTERTENMENT/Kaggle/Intel-CCS/test/test_seg_224/236-resnet-152.npy\n",
      "2017-06-09 23:05:48 159th/512 img calc and save feats:1.0511 path:/media/yuens/WIN10-ENTERTENMENT/Kaggle/Intel-CCS/test/test_seg_224/237-resnet-152.npy\n",
      "2017-06-09 23:05:49 160th/512 img calc and save feats:0.9615 path:/media/yuens/WIN10-ENTERTENMENT/Kaggle/Intel-CCS/test/test_seg_224/238-resnet-152.npy\n",
      "2017-06-09 23:05:50 161th/512 img calc and save feats:1.3181 path:/media/yuens/WIN10-ENTERTENMENT/Kaggle/Intel-CCS/test/test_seg_224/239-resnet-152.npy\n",
      "2017-06-09 23:05:52 162th/512 img calc and save feats:1.1263 path:/media/yuens/WIN10-ENTERTENMENT/Kaggle/Intel-CCS/test/test_seg_224/24-resnet-152.npy\n",
      "2017-06-09 23:05:53 163th/512 img calc and save feats:1.0384 path:/media/yuens/WIN10-ENTERTENMENT/Kaggle/Intel-CCS/test/test_seg_224/240-resnet-152.npy\n",
      "2017-06-09 23:05:54 164th/512 img calc and save feats:1.7853 path:/media/yuens/WIN10-ENTERTENMENT/Kaggle/Intel-CCS/test/test_seg_224/241-resnet-152.npy\n",
      "2017-06-09 23:05:56 165th/512 img calc and save feats:1.5496 path:/media/yuens/WIN10-ENTERTENMENT/Kaggle/Intel-CCS/test/test_seg_224/242-resnet-152.npy\n",
      "2017-06-09 23:05:57 166th/512 img calc and save feats:1.1962 path:/media/yuens/WIN10-ENTERTENMENT/Kaggle/Intel-CCS/test/test_seg_224/243-resnet-152.npy\n",
      "2017-06-09 23:05:58 167th/512 img calc and save feats:1.0628 path:/media/yuens/WIN10-ENTERTENMENT/Kaggle/Intel-CCS/test/test_seg_224/244-resnet-152.npy\n",
      "2017-06-09 23:05:59 168th/512 img calc and save feats:0.9354 path:/media/yuens/WIN10-ENTERTENMENT/Kaggle/Intel-CCS/test/test_seg_224/245-resnet-152.npy\n",
      "2017-06-09 23:06:00 169th/512 img calc and save feats:1.1049 path:/media/yuens/WIN10-ENTERTENMENT/Kaggle/Intel-CCS/test/test_seg_224/246-resnet-152.npy\n",
      "2017-06-09 23:06:01 170th/512 img calc and save feats:1.0678 path:/media/yuens/WIN10-ENTERTENMENT/Kaggle/Intel-CCS/test/test_seg_224/247-resnet-152.npy\n",
      "2017-06-09 23:06:02 171th/512 img calc and save feats:1.0760 path:/media/yuens/WIN10-ENTERTENMENT/Kaggle/Intel-CCS/test/test_seg_224/248-resnet-152.npy\n",
      "2017-06-09 23:06:04 172th/512 img calc and save feats:0.9934 path:/media/yuens/WIN10-ENTERTENMENT/Kaggle/Intel-CCS/test/test_seg_224/249-resnet-152.npy\n",
      "2017-06-09 23:06:05 173th/512 img calc and save feats:1.0722 path:/media/yuens/WIN10-ENTERTENMENT/Kaggle/Intel-CCS/test/test_seg_224/25-resnet-152.npy\n",
      "2017-06-09 23:06:06 174th/512 img calc and save feats:1.0705 path:/media/yuens/WIN10-ENTERTENMENT/Kaggle/Intel-CCS/test/test_seg_224/250-resnet-152.npy\n",
      "2017-06-09 23:06:07 175th/512 img calc and save feats:1.3868 path:/media/yuens/WIN10-ENTERTENMENT/Kaggle/Intel-CCS/test/test_seg_224/251-resnet-152.npy\n",
      "2017-06-09 23:06:08 176th/512 img calc and save feats:1.0518 path:/media/yuens/WIN10-ENTERTENMENT/Kaggle/Intel-CCS/test/test_seg_224/252-resnet-152.npy\n",
      "2017-06-09 23:06:09 177th/512 img calc and save feats:1.3670 path:/media/yuens/WIN10-ENTERTENMENT/Kaggle/Intel-CCS/test/test_seg_224/254-resnet-152.npy\n",
      "2017-06-09 23:06:10 178th/512 img calc and save feats:1.1345 path:/media/yuens/WIN10-ENTERTENMENT/Kaggle/Intel-CCS/test/test_seg_224/255-resnet-152.npy\n",
      "2017-06-09 23:06:12 179th/512 img calc and save feats:1.1413 path:/media/yuens/WIN10-ENTERTENMENT/Kaggle/Intel-CCS/test/test_seg_224/256-resnet-152.npy\n",
      "2017-06-09 23:06:13 180th/512 img calc and save feats:1.1476 path:/media/yuens/WIN10-ENTERTENMENT/Kaggle/Intel-CCS/test/test_seg_224/257-resnet-152.npy\n",
      "2017-06-09 23:06:14 181th/512 img calc and save feats:1.2238 path:/media/yuens/WIN10-ENTERTENMENT/Kaggle/Intel-CCS/test/test_seg_224/258-resnet-152.npy\n",
      "2017-06-09 23:06:15 182th/512 img calc and save feats:1.4554 path:/media/yuens/WIN10-ENTERTENMENT/Kaggle/Intel-CCS/test/test_seg_224/259-resnet-152.npy\n",
      "2017-06-09 23:06:17 183th/512 img calc and save feats:1.3386 path:/media/yuens/WIN10-ENTERTENMENT/Kaggle/Intel-CCS/test/test_seg_224/26-resnet-152.npy\n",
      "2017-06-09 23:06:18 184th/512 img calc and save feats:1.2863 path:/media/yuens/WIN10-ENTERTENMENT/Kaggle/Intel-CCS/test/test_seg_224/260-resnet-152.npy\n",
      "2017-06-09 23:06:19 185th/512 img calc and save feats:1.2360 path:/media/yuens/WIN10-ENTERTENMENT/Kaggle/Intel-CCS/test/test_seg_224/261-resnet-152.npy\n",
      "2017-06-09 23:06:20 186th/512 img calc and save feats:1.0873 path:/media/yuens/WIN10-ENTERTENMENT/Kaggle/Intel-CCS/test/test_seg_224/262-resnet-152.npy\n",
      "2017-06-09 23:06:22 187th/512 img calc and save feats:0.9191 path:/media/yuens/WIN10-ENTERTENMENT/Kaggle/Intel-CCS/test/test_seg_224/263-resnet-152.npy\n",
      "2017-06-09 23:06:22 188th/512 img calc and save feats:1.3273 path:/media/yuens/WIN10-ENTERTENMENT/Kaggle/Intel-CCS/test/test_seg_224/264-resnet-152.npy\n",
      "2017-06-09 23:06:24 189th/512 img calc and save feats:1.2478 path:/media/yuens/WIN10-ENTERTENMENT/Kaggle/Intel-CCS/test/test_seg_224/265-resnet-152.npy\n",
      "2017-06-09 23:06:25 190th/512 img calc and save feats:1.2895 path:/media/yuens/WIN10-ENTERTENMENT/Kaggle/Intel-CCS/test/test_seg_224/266-resnet-152.npy\n",
      "2017-06-09 23:06:26 191th/512 img calc and save feats:1.6553 path:/media/yuens/WIN10-ENTERTENMENT/Kaggle/Intel-CCS/test/test_seg_224/267-resnet-152.npy\n",
      "2017-06-09 23:06:28 192th/512 img calc and save feats:1.2124 path:/media/yuens/WIN10-ENTERTENMENT/Kaggle/Intel-CCS/test/test_seg_224/268-resnet-152.npy\n",
      "2017-06-09 23:06:29 193th/512 img calc and save feats:1.2559 path:/media/yuens/WIN10-ENTERTENMENT/Kaggle/Intel-CCS/test/test_seg_224/269-resnet-152.npy\n",
      "2017-06-09 23:06:30 194th/512 img calc and save feats:1.9859 path:/media/yuens/WIN10-ENTERTENMENT/Kaggle/Intel-CCS/test/test_seg_224/27-resnet-152.npy\n",
      "2017-06-09 23:06:32 195th/512 img calc and save feats:1.8071 path:/media/yuens/WIN10-ENTERTENMENT/Kaggle/Intel-CCS/test/test_seg_224/270-resnet-152.npy\n",
      "2017-06-09 23:06:34 196th/512 img calc and save feats:1.3185 path:/media/yuens/WIN10-ENTERTENMENT/Kaggle/Intel-CCS/test/test_seg_224/271-resnet-152.npy\n",
      "2017-06-09 23:06:36 197th/512 img calc and save feats:1.1387 path:/media/yuens/WIN10-ENTERTENMENT/Kaggle/Intel-CCS/test/test_seg_224/273-resnet-152.npy\n",
      "2017-06-09 23:06:37 198th/512 img calc and save feats:1.4351 path:/media/yuens/WIN10-ENTERTENMENT/Kaggle/Intel-CCS/test/test_seg_224/274-resnet-152.npy\n",
      "2017-06-09 23:06:38 199th/512 img calc and save feats:1.1657 path:/media/yuens/WIN10-ENTERTENMENT/Kaggle/Intel-CCS/test/test_seg_224/275-resnet-152.npy\n",
      "2017-06-09 23:06:39 200th/512 img calc and save feats:1.7452 path:/media/yuens/WIN10-ENTERTENMENT/Kaggle/Intel-CCS/test/test_seg_224/276-resnet-152.npy\n",
      "2017-06-09 23:06:41 201th/512 img calc and save feats:1.7600 path:/media/yuens/WIN10-ENTERTENMENT/Kaggle/Intel-CCS/test/test_seg_224/277-resnet-152.npy\n",
      "2017-06-09 23:06:43 202th/512 img calc and save feats:1.2338 path:/media/yuens/WIN10-ENTERTENMENT/Kaggle/Intel-CCS/test/test_seg_224/278-resnet-152.npy\n",
      "2017-06-09 23:06:44 203th/512 img calc and save feats:0.9978 path:/media/yuens/WIN10-ENTERTENMENT/Kaggle/Intel-CCS/test/test_seg_224/279-resnet-152.npy\n",
      "2017-06-09 23:06:45 204th/512 img calc and save feats:1.0463 path:/media/yuens/WIN10-ENTERTENMENT/Kaggle/Intel-CCS/test/test_seg_224/28-resnet-152.npy\n",
      "2017-06-09 23:06:46 205th/512 img calc and save feats:1.1679 path:/media/yuens/WIN10-ENTERTENMENT/Kaggle/Intel-CCS/test/test_seg_224/280-resnet-152.npy\n",
      "2017-06-09 23:06:47 206th/512 img calc and save feats:1.3152 path:/media/yuens/WIN10-ENTERTENMENT/Kaggle/Intel-CCS/test/test_seg_224/281-resnet-152.npy\n",
      "2017-06-09 23:06:49 207th/512 img calc and save feats:0.9693 path:/media/yuens/WIN10-ENTERTENMENT/Kaggle/Intel-CCS/test/test_seg_224/282-resnet-152.npy\n",
      "2017-06-09 23:06:50 208th/512 img calc and save feats:0.7987 path:/media/yuens/WIN10-ENTERTENMENT/Kaggle/Intel-CCS/test/test_seg_224/283-resnet-152.npy\n",
      "2017-06-09 23:06:50 209th/512 img calc and save feats:0.8315 path:/media/yuens/WIN10-ENTERTENMENT/Kaggle/Intel-CCS/test/test_seg_224/284-resnet-152.npy\n",
      "2017-06-09 23:06:51 210th/512 img calc and save feats:1.0094 path:/media/yuens/WIN10-ENTERTENMENT/Kaggle/Intel-CCS/test/test_seg_224/285-resnet-152.npy\n",
      "2017-06-09 23:06:52 211th/512 img calc and save feats:1.1158 path:/media/yuens/WIN10-ENTERTENMENT/Kaggle/Intel-CCS/test/test_seg_224/286-resnet-152.npy\n",
      "2017-06-09 23:06:53 212th/512 img calc and save feats:1.1823 path:/media/yuens/WIN10-ENTERTENMENT/Kaggle/Intel-CCS/test/test_seg_224/287-resnet-152.npy\n",
      "2017-06-09 23:06:54 213th/512 img calc and save feats:0.8492 path:/media/yuens/WIN10-ENTERTENMENT/Kaggle/Intel-CCS/test/test_seg_224/288-resnet-152.npy\n",
      "2017-06-09 23:06:55 214th/512 img calc and save feats:1.3078 path:/media/yuens/WIN10-ENTERTENMENT/Kaggle/Intel-CCS/test/test_seg_224/289-resnet-152.npy\n",
      "2017-06-09 23:06:57 215th/512 img calc and save feats:1.2930 path:/media/yuens/WIN10-ENTERTENMENT/Kaggle/Intel-CCS/test/test_seg_224/29-resnet-152.npy\n",
      "2017-06-09 23:06:58 216th/512 img calc and save feats:1.0518 path:/media/yuens/WIN10-ENTERTENMENT/Kaggle/Intel-CCS/test/test_seg_224/290-resnet-152.npy\n",
      "2017-06-09 23:06:59 217th/512 img calc and save feats:1.0272 path:/media/yuens/WIN10-ENTERTENMENT/Kaggle/Intel-CCS/test/test_seg_224/292-resnet-152.npy\n",
      "2017-06-09 23:07:00 218th/512 img calc and save feats:0.7436 path:/media/yuens/WIN10-ENTERTENMENT/Kaggle/Intel-CCS/test/test_seg_224/293-resnet-152.npy\n",
      "2017-06-09 23:07:01 219th/512 img calc and save feats:0.8103 path:/media/yuens/WIN10-ENTERTENMENT/Kaggle/Intel-CCS/test/test_seg_224/294-resnet-152.npy\n",
      "2017-06-09 23:07:02 220th/512 img calc and save feats:1.0602 path:/media/yuens/WIN10-ENTERTENMENT/Kaggle/Intel-CCS/test/test_seg_224/295-resnet-152.npy\n",
      "2017-06-09 23:07:03 221th/512 img calc and save feats:0.8697 path:/media/yuens/WIN10-ENTERTENMENT/Kaggle/Intel-CCS/test/test_seg_224/296-resnet-152.npy\n",
      "2017-06-09 23:07:03 222th/512 img calc and save feats:0.9598 path:/media/yuens/WIN10-ENTERTENMENT/Kaggle/Intel-CCS/test/test_seg_224/297-resnet-152.npy\n",
      "2017-06-09 23:07:04 223th/512 img calc and save feats:0.9088 path:/media/yuens/WIN10-ENTERTENMENT/Kaggle/Intel-CCS/test/test_seg_224/298-resnet-152.npy\n",
      "2017-06-09 23:07:05 224th/512 img calc and save feats:0.9041 path:/media/yuens/WIN10-ENTERTENMENT/Kaggle/Intel-CCS/test/test_seg_224/299-resnet-152.npy\n",
      "2017-06-09 23:07:06 225th/512 img calc and save feats:1.1041 path:/media/yuens/WIN10-ENTERTENMENT/Kaggle/Intel-CCS/test/test_seg_224/3-resnet-152.npy\n",
      "2017-06-09 23:07:07 226th/512 img calc and save feats:0.8973 path:/media/yuens/WIN10-ENTERTENMENT/Kaggle/Intel-CCS/test/test_seg_224/30-resnet-152.npy\n",
      "2017-06-09 23:07:08 227th/512 img calc and save feats:0.7031 path:/media/yuens/WIN10-ENTERTENMENT/Kaggle/Intel-CCS/test/test_seg_224/300-resnet-152.npy\n",
      "2017-06-09 23:07:09 228th/512 img calc and save feats:0.6575 path:/media/yuens/WIN10-ENTERTENMENT/Kaggle/Intel-CCS/test/test_seg_224/301-resnet-152.npy\n",
      "2017-06-09 23:07:10 229th/512 img calc and save feats:0.8202 path:/media/yuens/WIN10-ENTERTENMENT/Kaggle/Intel-CCS/test/test_seg_224/302-resnet-152.npy\n",
      "2017-06-09 23:07:10 230th/512 img calc and save feats:0.7253 path:/media/yuens/WIN10-ENTERTENMENT/Kaggle/Intel-CCS/test/test_seg_224/303-resnet-152.npy\n",
      "2017-06-09 23:07:11 231th/512 img calc and save feats:0.6225 path:/media/yuens/WIN10-ENTERTENMENT/Kaggle/Intel-CCS/test/test_seg_224/304-resnet-152.npy\n",
      "2017-06-09 23:07:12 232th/512 img calc and save feats:0.5998 path:/media/yuens/WIN10-ENTERTENMENT/Kaggle/Intel-CCS/test/test_seg_224/305-resnet-152.npy\n",
      "2017-06-09 23:07:12 233th/512 img calc and save feats:0.6401 path:/media/yuens/WIN10-ENTERTENMENT/Kaggle/Intel-CCS/test/test_seg_224/306-resnet-152.npy\n",
      "2017-06-09 23:07:13 234th/512 img calc and save feats:0.6472 path:/media/yuens/WIN10-ENTERTENMENT/Kaggle/Intel-CCS/test/test_seg_224/307-resnet-152.npy\n",
      "2017-06-09 23:07:14 235th/512 img calc and save feats:0.6103 path:/media/yuens/WIN10-ENTERTENMENT/Kaggle/Intel-CCS/test/test_seg_224/308-resnet-152.npy\n",
      "2017-06-09 23:07:14 236th/512 img calc and save feats:0.6372 path:/media/yuens/WIN10-ENTERTENMENT/Kaggle/Intel-CCS/test/test_seg_224/309-resnet-152.npy\n",
      "2017-06-09 23:07:15 237th/512 img calc and save feats:0.6338 path:/media/yuens/WIN10-ENTERTENMENT/Kaggle/Intel-CCS/test/test_seg_224/310-resnet-152.npy\n",
      "2017-06-09 23:07:16 238th/512 img calc and save feats:0.6168 path:/media/yuens/WIN10-ENTERTENMENT/Kaggle/Intel-CCS/test/test_seg_224/311-resnet-152.npy\n",
      "2017-06-09 23:07:16 239th/512 img calc and save feats:0.6987 path:/media/yuens/WIN10-ENTERTENMENT/Kaggle/Intel-CCS/test/test_seg_224/312-resnet-152.npy\n",
      "2017-06-09 23:07:17 240th/512 img calc and save feats:0.8213 path:/media/yuens/WIN10-ENTERTENMENT/Kaggle/Intel-CCS/test/test_seg_224/313-resnet-152.npy\n",
      "2017-06-09 23:07:18 241th/512 img calc and save feats:0.6631 path:/media/yuens/WIN10-ENTERTENMENT/Kaggle/Intel-CCS/test/test_seg_224/314-resnet-152.npy\n",
      "2017-06-09 23:07:18 242th/512 img calc and save feats:0.7312 path:/media/yuens/WIN10-ENTERTENMENT/Kaggle/Intel-CCS/test/test_seg_224/315-resnet-152.npy\n",
      "2017-06-09 23:07:19 243th/512 img calc and save feats:0.7997 path:/media/yuens/WIN10-ENTERTENMENT/Kaggle/Intel-CCS/test/test_seg_224/316-resnet-152.npy\n",
      "2017-06-09 23:07:20 244th/512 img calc and save feats:0.7046 path:/media/yuens/WIN10-ENTERTENMENT/Kaggle/Intel-CCS/test/test_seg_224/317-resnet-152.npy\n",
      "2017-06-09 23:07:21 245th/512 img calc and save feats:0.7042 path:/media/yuens/WIN10-ENTERTENMENT/Kaggle/Intel-CCS/test/test_seg_224/318-resnet-152.npy\n",
      "2017-06-09 23:07:21 246th/512 img calc and save feats:0.6990 path:/media/yuens/WIN10-ENTERTENMENT/Kaggle/Intel-CCS/test/test_seg_224/319-resnet-152.npy\n",
      "2017-06-09 23:07:22 247th/512 img calc and save feats:0.7548 path:/media/yuens/WIN10-ENTERTENMENT/Kaggle/Intel-CCS/test/test_seg_224/32-resnet-152.npy\n",
      "2017-06-09 23:07:23 248th/512 img calc and save feats:0.7158 path:/media/yuens/WIN10-ENTERTENMENT/Kaggle/Intel-CCS/test/test_seg_224/320-resnet-152.npy\n",
      "2017-06-09 23:07:23 249th/512 img calc and save feats:0.7268 path:/media/yuens/WIN10-ENTERTENMENT/Kaggle/Intel-CCS/test/test_seg_224/321-resnet-152.npy\n",
      "2017-06-09 23:07:24 250th/512 img calc and save feats:0.8113 path:/media/yuens/WIN10-ENTERTENMENT/Kaggle/Intel-CCS/test/test_seg_224/322-resnet-152.npy\n",
      "2017-06-09 23:07:25 251th/512 img calc and save feats:0.6929 path:/media/yuens/WIN10-ENTERTENMENT/Kaggle/Intel-CCS/test/test_seg_224/323-resnet-152.npy\n",
      "2017-06-09 23:07:26 252th/512 img calc and save feats:0.6693 path:/media/yuens/WIN10-ENTERTENMENT/Kaggle/Intel-CCS/test/test_seg_224/324-resnet-152.npy\n",
      "2017-06-09 23:07:26 253th/512 img calc and save feats:0.8599 path:/media/yuens/WIN10-ENTERTENMENT/Kaggle/Intel-CCS/test/test_seg_224/325-resnet-152.npy\n",
      "2017-06-09 23:07:27 254th/512 img calc and save feats:0.6927 path:/media/yuens/WIN10-ENTERTENMENT/Kaggle/Intel-CCS/test/test_seg_224/326-resnet-152.npy\n",
      "2017-06-09 23:07:28 255th/512 img calc and save feats:0.7559 path:/media/yuens/WIN10-ENTERTENMENT/Kaggle/Intel-CCS/test/test_seg_224/327-resnet-152.npy\n",
      "2017-06-09 23:07:29 256th/512 img calc and save feats:0.8089 path:/media/yuens/WIN10-ENTERTENMENT/Kaggle/Intel-CCS/test/test_seg_224/328-resnet-152.npy\n",
      "2017-06-09 23:07:29 257th/512 img calc and save feats:0.9957 path:/media/yuens/WIN10-ENTERTENMENT/Kaggle/Intel-CCS/test/test_seg_224/33-resnet-152.npy\n",
      "2017-06-09 23:07:30 258th/512 img calc and save feats:1.0059 path:/media/yuens/WIN10-ENTERTENMENT/Kaggle/Intel-CCS/test/test_seg_224/330-resnet-152.npy\n",
      "2017-06-09 23:07:31 259th/512 img calc and save feats:1.2489 path:/media/yuens/WIN10-ENTERTENMENT/Kaggle/Intel-CCS/test/test_seg_224/331-resnet-152.npy\n",
      "2017-06-09 23:07:33 260th/512 img calc and save feats:0.7764 path:/media/yuens/WIN10-ENTERTENMENT/Kaggle/Intel-CCS/test/test_seg_224/332-resnet-152.npy\n",
      "2017-06-09 23:07:34 261th/512 img calc and save feats:0.8330 path:/media/yuens/WIN10-ENTERTENMENT/Kaggle/Intel-CCS/test/test_seg_224/333-resnet-152.npy\n",
      "2017-06-09 23:07:34 262th/512 img calc and save feats:0.7828 path:/media/yuens/WIN10-ENTERTENMENT/Kaggle/Intel-CCS/test/test_seg_224/334-resnet-152.npy\n",
      "2017-06-09 23:07:35 263th/512 img calc and save feats:0.7619 path:/media/yuens/WIN10-ENTERTENMENT/Kaggle/Intel-CCS/test/test_seg_224/335-resnet-152.npy\n",
      "2017-06-09 23:07:36 264th/512 img calc and save feats:0.7282 path:/media/yuens/WIN10-ENTERTENMENT/Kaggle/Intel-CCS/test/test_seg_224/336-resnet-152.npy\n",
      "2017-06-09 23:07:37 265th/512 img calc and save feats:0.8370 path:/media/yuens/WIN10-ENTERTENMENT/Kaggle/Intel-CCS/test/test_seg_224/337-resnet-152.npy\n",
      "2017-06-09 23:07:37 266th/512 img calc and save feats:0.7569 path:/media/yuens/WIN10-ENTERTENMENT/Kaggle/Intel-CCS/test/test_seg_224/338-resnet-152.npy\n",
      "2017-06-09 23:07:38 267th/512 img calc and save feats:0.7528 path:/media/yuens/WIN10-ENTERTENMENT/Kaggle/Intel-CCS/test/test_seg_224/339-resnet-152.npy\n",
      "2017-06-09 23:07:39 268th/512 img calc and save feats:0.7602 path:/media/yuens/WIN10-ENTERTENMENT/Kaggle/Intel-CCS/test/test_seg_224/34-resnet-152.npy\n",
      "2017-06-09 23:07:40 269th/512 img calc and save feats:0.7725 path:/media/yuens/WIN10-ENTERTENMENT/Kaggle/Intel-CCS/test/test_seg_224/340-resnet-152.npy\n",
      "2017-06-09 23:07:41 270th/512 img calc and save feats:1.2539 path:/media/yuens/WIN10-ENTERTENMENT/Kaggle/Intel-CCS/test/test_seg_224/341-resnet-152.npy\n",
      "2017-06-09 23:07:42 271th/512 img calc and save feats:0.8363 path:/media/yuens/WIN10-ENTERTENMENT/Kaggle/Intel-CCS/test/test_seg_224/342-resnet-152.npy\n",
      "2017-06-09 23:07:43 272th/512 img calc and save feats:0.7717 path:/media/yuens/WIN10-ENTERTENMENT/Kaggle/Intel-CCS/test/test_seg_224/343-resnet-152.npy\n",
      "2017-06-09 23:07:43 273th/512 img calc and save feats:0.7835 path:/media/yuens/WIN10-ENTERTENMENT/Kaggle/Intel-CCS/test/test_seg_224/344-resnet-152.npy\n",
      "2017-06-09 23:07:44 274th/512 img calc and save feats:0.8488 path:/media/yuens/WIN10-ENTERTENMENT/Kaggle/Intel-CCS/test/test_seg_224/345-resnet-152.npy\n",
      "2017-06-09 23:07:45 275th/512 img calc and save feats:0.9319 path:/media/yuens/WIN10-ENTERTENMENT/Kaggle/Intel-CCS/test/test_seg_224/346-resnet-152.npy\n",
      "2017-06-09 23:07:46 276th/512 img calc and save feats:1.2641 path:/media/yuens/WIN10-ENTERTENMENT/Kaggle/Intel-CCS/test/test_seg_224/347-resnet-152.npy\n",
      "2017-06-09 23:07:47 277th/512 img calc and save feats:0.9044 path:/media/yuens/WIN10-ENTERTENMENT/Kaggle/Intel-CCS/test/test_seg_224/349-resnet-152.npy\n",
      "2017-06-09 23:07:48 278th/512 img calc and save feats:0.8493 path:/media/yuens/WIN10-ENTERTENMENT/Kaggle/Intel-CCS/test/test_seg_224/35-resnet-152.npy\n",
      "2017-06-09 23:07:49 279th/512 img calc and save feats:0.9910 path:/media/yuens/WIN10-ENTERTENMENT/Kaggle/Intel-CCS/test/test_seg_224/350-resnet-152.npy\n",
      "2017-06-09 23:07:50 280th/512 img calc and save feats:0.8008 path:/media/yuens/WIN10-ENTERTENMENT/Kaggle/Intel-CCS/test/test_seg_224/351-resnet-152.npy\n",
      "2017-06-09 23:07:51 281th/512 img calc and save feats:0.9541 path:/media/yuens/WIN10-ENTERTENMENT/Kaggle/Intel-CCS/test/test_seg_224/352-resnet-152.npy\n",
      "2017-06-09 23:07:52 282th/512 img calc and save feats:0.7712 path:/media/yuens/WIN10-ENTERTENMENT/Kaggle/Intel-CCS/test/test_seg_224/353-resnet-152.npy\n",
      "2017-06-09 23:07:52 283th/512 img calc and save feats:0.7216 path:/media/yuens/WIN10-ENTERTENMENT/Kaggle/Intel-CCS/test/test_seg_224/354-resnet-152.npy\n",
      "2017-06-09 23:07:53 284th/512 img calc and save feats:0.8944 path:/media/yuens/WIN10-ENTERTENMENT/Kaggle/Intel-CCS/test/test_seg_224/355-resnet-152.npy\n",
      "2017-06-09 23:07:54 285th/512 img calc and save feats:0.8086 path:/media/yuens/WIN10-ENTERTENMENT/Kaggle/Intel-CCS/test/test_seg_224/356-resnet-152.npy\n",
      "2017-06-09 23:07:55 286th/512 img calc and save feats:0.8518 path:/media/yuens/WIN10-ENTERTENMENT/Kaggle/Intel-CCS/test/test_seg_224/357-resnet-152.npy\n",
      "2017-06-09 23:07:56 287th/512 img calc and save feats:1.0931 path:/media/yuens/WIN10-ENTERTENMENT/Kaggle/Intel-CCS/test/test_seg_224/358-resnet-152.npy\n",
      "2017-06-09 23:07:57 288th/512 img calc and save feats:1.4903 path:/media/yuens/WIN10-ENTERTENMENT/Kaggle/Intel-CCS/test/test_seg_224/359-resnet-152.npy\n",
      "2017-06-09 23:07:58 289th/512 img calc and save feats:1.3444 path:/media/yuens/WIN10-ENTERTENMENT/Kaggle/Intel-CCS/test/test_seg_224/36-resnet-152.npy\n",
      "2017-06-09 23:08:00 290th/512 img calc and save feats:1.2711 path:/media/yuens/WIN10-ENTERTENMENT/Kaggle/Intel-CCS/test/test_seg_224/360-resnet-152.npy\n",
      "2017-06-09 23:08:01 291th/512 img calc and save feats:1.3683 path:/media/yuens/WIN10-ENTERTENMENT/Kaggle/Intel-CCS/test/test_seg_224/361-resnet-152.npy\n",
      "2017-06-09 23:08:02 292th/512 img calc and save feats:1.0485 path:/media/yuens/WIN10-ENTERTENMENT/Kaggle/Intel-CCS/test/test_seg_224/362-resnet-152.npy\n",
      "2017-06-09 23:08:03 293th/512 img calc and save feats:1.1521 path:/media/yuens/WIN10-ENTERTENMENT/Kaggle/Intel-CCS/test/test_seg_224/363-resnet-152.npy\n",
      "2017-06-09 23:08:05 294th/512 img calc and save feats:1.2937 path:/media/yuens/WIN10-ENTERTENMENT/Kaggle/Intel-CCS/test/test_seg_224/364-resnet-152.npy\n",
      "2017-06-09 23:08:06 295th/512 img calc and save feats:0.8994 path:/media/yuens/WIN10-ENTERTENMENT/Kaggle/Intel-CCS/test/test_seg_224/365-resnet-152.npy\n",
      "2017-06-09 23:08:07 296th/512 img calc and save feats:1.3400 path:/media/yuens/WIN10-ENTERTENMENT/Kaggle/Intel-CCS/test/test_seg_224/366-resnet-152.npy\n",
      "2017-06-09 23:08:08 297th/512 img calc and save feats:1.7252 path:/media/yuens/WIN10-ENTERTENMENT/Kaggle/Intel-CCS/test/test_seg_224/368-resnet-152.npy\n",
      "2017-06-09 23:08:10 298th/512 img calc and save feats:1.3474 path:/media/yuens/WIN10-ENTERTENMENT/Kaggle/Intel-CCS/test/test_seg_224/369-resnet-152.npy\n",
      "2017-06-09 23:08:11 299th/512 img calc and save feats:1.2290 path:/media/yuens/WIN10-ENTERTENMENT/Kaggle/Intel-CCS/test/test_seg_224/37-resnet-152.npy\n",
      "2017-06-09 23:08:12 300th/512 img calc and save feats:0.8776 path:/media/yuens/WIN10-ENTERTENMENT/Kaggle/Intel-CCS/test/test_seg_224/370-resnet-152.npy\n",
      "2017-06-09 23:08:13 301th/512 img calc and save feats:0.8325 path:/media/yuens/WIN10-ENTERTENMENT/Kaggle/Intel-CCS/test/test_seg_224/371-resnet-152.npy\n",
      "2017-06-09 23:08:14 302th/512 img calc and save feats:1.0244 path:/media/yuens/WIN10-ENTERTENMENT/Kaggle/Intel-CCS/test/test_seg_224/372-resnet-152.npy\n",
      "2017-06-09 23:08:15 303th/512 img calc and save feats:1.0336 path:/media/yuens/WIN10-ENTERTENMENT/Kaggle/Intel-CCS/test/test_seg_224/373-resnet-152.npy\n",
      "2017-06-09 23:08:16 304th/512 img calc and save feats:1.1191 path:/media/yuens/WIN10-ENTERTENMENT/Kaggle/Intel-CCS/test/test_seg_224/374-resnet-152.npy\n",
      "2017-06-09 23:08:17 305th/512 img calc and save feats:0.7963 path:/media/yuens/WIN10-ENTERTENMENT/Kaggle/Intel-CCS/test/test_seg_224/375-resnet-152.npy\n",
      "2017-06-09 23:08:18 306th/512 img calc and save feats:0.9240 path:/media/yuens/WIN10-ENTERTENMENT/Kaggle/Intel-CCS/test/test_seg_224/376-resnet-152.npy\n",
      "2017-06-09 23:08:19 307th/512 img calc and save feats:1.1922 path:/media/yuens/WIN10-ENTERTENMENT/Kaggle/Intel-CCS/test/test_seg_224/377-resnet-152.npy\n",
      "2017-06-09 23:08:20 308th/512 img calc and save feats:1.3785 path:/media/yuens/WIN10-ENTERTENMENT/Kaggle/Intel-CCS/test/test_seg_224/378-resnet-152.npy\n",
      "2017-06-09 23:08:22 309th/512 img calc and save feats:1.3666 path:/media/yuens/WIN10-ENTERTENMENT/Kaggle/Intel-CCS/test/test_seg_224/379-resnet-152.npy\n",
      "2017-06-09 23:08:23 310th/512 img calc and save feats:1.1117 path:/media/yuens/WIN10-ENTERTENMENT/Kaggle/Intel-CCS/test/test_seg_224/38-resnet-152.npy\n",
      "2017-06-09 23:08:24 311th/512 img calc and save feats:0.8320 path:/media/yuens/WIN10-ENTERTENMENT/Kaggle/Intel-CCS/test/test_seg_224/380-resnet-152.npy\n",
      "2017-06-09 23:08:25 312th/512 img calc and save feats:0.7364 path:/media/yuens/WIN10-ENTERTENMENT/Kaggle/Intel-CCS/test/test_seg_224/381-resnet-152.npy\n",
      "2017-06-09 23:08:26 313th/512 img calc and save feats:0.9559 path:/media/yuens/WIN10-ENTERTENMENT/Kaggle/Intel-CCS/test/test_seg_224/382-resnet-152.npy\n",
      "2017-06-09 23:08:27 314th/512 img calc and save feats:0.9062 path:/media/yuens/WIN10-ENTERTENMENT/Kaggle/Intel-CCS/test/test_seg_224/383-resnet-152.npy\n",
      "2017-06-09 23:08:27 315th/512 img calc and save feats:0.8073 path:/media/yuens/WIN10-ENTERTENMENT/Kaggle/Intel-CCS/test/test_seg_224/384-resnet-152.npy\n",
      "2017-06-09 23:08:28 316th/512 img calc and save feats:0.8343 path:/media/yuens/WIN10-ENTERTENMENT/Kaggle/Intel-CCS/test/test_seg_224/385-resnet-152.npy\n",
      "2017-06-09 23:08:29 317th/512 img calc and save feats:0.8089 path:/media/yuens/WIN10-ENTERTENMENT/Kaggle/Intel-CCS/test/test_seg_224/387-resnet-152.npy\n",
      "2017-06-09 23:08:30 318th/512 img calc and save feats:0.8254 path:/media/yuens/WIN10-ENTERTENMENT/Kaggle/Intel-CCS/test/test_seg_224/388-resnet-152.npy\n",
      "2017-06-09 23:08:31 319th/512 img calc and save feats:0.7426 path:/media/yuens/WIN10-ENTERTENMENT/Kaggle/Intel-CCS/test/test_seg_224/389-resnet-152.npy\n",
      "2017-06-09 23:08:31 320th/512 img calc and save feats:0.7979 path:/media/yuens/WIN10-ENTERTENMENT/Kaggle/Intel-CCS/test/test_seg_224/39-resnet-152.npy\n",
      "2017-06-09 23:08:32 321th/512 img calc and save feats:1.1905 path:/media/yuens/WIN10-ENTERTENMENT/Kaggle/Intel-CCS/test/test_seg_224/390-resnet-152.npy\n",
      "2017-06-09 23:08:33 322th/512 img calc and save feats:1.7071 path:/media/yuens/WIN10-ENTERTENMENT/Kaggle/Intel-CCS/test/test_seg_224/391-resnet-152.npy\n",
      "2017-06-09 23:08:35 323th/512 img calc and save feats:1.5821 path:/media/yuens/WIN10-ENTERTENMENT/Kaggle/Intel-CCS/test/test_seg_224/392-resnet-152.npy\n",
      "2017-06-09 23:08:37 324th/512 img calc and save feats:3.0992 path:/media/yuens/WIN10-ENTERTENMENT/Kaggle/Intel-CCS/test/test_seg_224/393-resnet-152.npy\n",
      "2017-06-09 23:08:40 325th/512 img calc and save feats:3.3093 path:/media/yuens/WIN10-ENTERTENMENT/Kaggle/Intel-CCS/test/test_seg_224/394-resnet-152.npy\n",
      "2017-06-09 23:08:43 326th/512 img calc and save feats:3.1459 path:/media/yuens/WIN10-ENTERTENMENT/Kaggle/Intel-CCS/test/test_seg_224/395-resnet-152.npy\n",
      "2017-06-09 23:08:46 327th/512 img calc and save feats:2.6613 path:/media/yuens/WIN10-ENTERTENMENT/Kaggle/Intel-CCS/test/test_seg_224/396-resnet-152.npy\n",
      "2017-06-09 23:08:49 328th/512 img calc and save feats:1.8047 path:/media/yuens/WIN10-ENTERTENMENT/Kaggle/Intel-CCS/test/test_seg_224/397-resnet-152.npy\n",
      "2017-06-09 23:08:51 329th/512 img calc and save feats:2.3243 path:/media/yuens/WIN10-ENTERTENMENT/Kaggle/Intel-CCS/test/test_seg_224/398-resnet-152.npy\n",
      "2017-06-09 23:08:53 330th/512 img calc and save feats:0.8522 path:/media/yuens/WIN10-ENTERTENMENT/Kaggle/Intel-CCS/test/test_seg_224/399-resnet-152.npy\n",
      "2017-06-09 23:08:54 331th/512 img calc and save feats:2.8695 path:/media/yuens/WIN10-ENTERTENMENT/Kaggle/Intel-CCS/test/test_seg_224/4-resnet-152.npy\n",
      "2017-06-09 23:08:57 332th/512 img"
     ]
    }
   ],
   "source": [
    "import os\n",
    "import mxnet as mx\n",
    "from collections import namedtuple\n",
    "import time, datetime\n",
    "import cv2\n",
    "\n",
    "################################################\n",
    "# parameter initialization                     #\n",
    "################################################\n",
    "\n",
    "###############################\n",
    "# extract feature on test set #\n",
    "###############################\n",
    "\n",
    "test_img_path = \"/media/yuens/WIN10-ENTERTENMENT/Kaggle/Intel-CCS/test/test_seg_224\"\n",
    "img_path_list = get_test_img_list(test_img_path)\n",
    "Batch = namedtuple('Batch', ['data'])\n",
    "feats_save_path_list = map(lambda img_path: img_path.replace(\"jpg\", \"npy\"), img_path_list)\n",
    "model_path = \"../model\"\n",
    "prefix_list = [\"finetune-resnet-152-train-add-seg-224\",\\\n",
    "               \"finetune-resnet-200-train-add-seg-224\",\\\n",
    "               \"finetune-resnext-50-train-add-seg-224-lr-0.01\"]\n",
    "epoch_list = [3, 3, 3]\n",
    "feats_save_prefix_list = [\"resnet-152\",\\\n",
    "                          \"resnet-200\",\\\n",
    "                          \"resnext-50\"]\n",
    "synset_path=\"../model/synset.txt\"\n",
    "synsets = get_synset(synset_path)\n",
    "\n",
    "################################################\n",
    "# extract feature using each pretrained model  #\n",
    "################################################\n",
    "\n",
    "for m_idx in xrange(len(prefix_list)):\n",
    "    prefix = \"/\".join([model_path, prefix_list[m_idx]])\n",
    "    epoch = epoch_list[m_idx]\n",
    "    feats_save_prefix = feats_save_prefix_list[m_idx]\n",
    "    feature_extractor = get_feature_extractor(prefix, epoch)\n",
    "    \n",
    "    for img_idx in xrange(len(img_path_list)):\n",
    "        time_stamp = datetime.datetime.now()\n",
    "        print(\"{} {}th/{} img\".format(time_stamp.strftime('%Y-%m-%d %H:%M:%S'), img_idx+1, len(img_path_list))),\n",
    "        \n",
    "        start_extract = time.time()\n",
    "        \n",
    "        img_path = img_path_list[img_idx]\n",
    "        feats_save_path = feats_save_path_list[img_idx]\n",
    "        img = get_image(img_path)\n",
    "\n",
    "        feature_extractor.forward(Batch([mx.nd.array(img)]))\n",
    "        feats = feature_extractor.get_outputs()[0].asnumpy()\n",
    "        \n",
    "        #####################\n",
    "        # check features    #\n",
    "        #####################\n",
    "        #print feats.shape\n",
    "        \n",
    "        #####################\n",
    "        # save features     #\n",
    "        #####################\n",
    "        feats_save_path = feats_save_path.replace(\".\", \"-\"+feats_save_prefix+\".\")\n",
    "        np.save(feats_save_path, feats)\n",
    "        \n",
    "        finish_extract = time.time()\n",
    "        duration_extract = finish_extract - start_extract\n",
    "        \n",
    "        print(\"calc and save feats:{:.4f} path:{}\".format(duration_extract, feats_save_path))"
   ]
  },
  {
   "cell_type": "markdown",
   "metadata": {
    "collapsed": false,
    "deletable": true,
    "editable": true
   },
   "source": [
    "# Step 2.5 Feature Concate"
   ]
  },
  {
   "cell_type": "code",
   "execution_count": 41,
   "metadata": {
    "collapsed": false,
    "deletable": true,
    "editable": true,
    "scrolled": true
   },
   "outputs": [
    {
     "name": "stdout",
     "output_type": "stream",
     "text": [
      "(1, 2048)\n",
      "(1, 2048)\n",
      "(1, 2048)\n",
      "<type 'numpy.ndarray'>\n",
      "<type 'numpy.ndarray'>\n",
      "<type 'numpy.ndarray'>\n",
      "(3, 2048)\n",
      "(1, 6144)\n"
     ]
    },
    {
     "name": "stderr",
     "output_type": "stream",
     "text": [
      "/usr/local/lib/anaconda2/lib/python2.7/json/encoder.py:207: DeprecationWarning: Interpreting naive datetime as local 2017-06-09 21:40:15.140838. Please add timezone info to timestamps.\n",
      "  chunks = self.iterencode(o, _one_shot=True)\n"
     ]
    }
   ],
   "source": [
    "np1 = '/media/yuens/WIN10-ENTERTENMENT/Kaggle/Intel-CCS/train_add_seg_224/Type_1_seg_224/3070-resnet-152.npy'\n",
    "np2 = '/media/yuens/WIN10-ENTERTENMENT/Kaggle/Intel-CCS/train_add_seg_224/Type_1_seg_224/3070-resnet-200.npy'\n",
    "np3 = '/media/yuens/WIN10-ENTERTENMENT/Kaggle/Intel-CCS/train_add_seg_224/Type_1_seg_224/3070-resnext-50.npy'\n",
    "\n",
    "a = np.load(np1)\n",
    "b = np.load(np2)\n",
    "c = np.load(np3)\n",
    "\n",
    "print a.shape\n",
    "print b.shape\n",
    "print c.shape\n",
    "\n",
    "print type(a)\n",
    "print type(b)\n",
    "print type(c)\n",
    "\n",
    "print np.concatenate((a,b,c), axis=0).shape\n",
    "print np.concatenate((a,b,c), axis=1).shape\n",
    "\n",
    "?np.concatenate"
   ]
  },
  {
   "cell_type": "code",
   "execution_count": 25,
   "metadata": {
    "collapsed": false,
    "deletable": true,
    "editable": true
   },
   "outputs": [
    {
     "name": "stdout",
     "output_type": "stream",
     "text": [
      "(1, 2048)\n"
     ]
    },
    {
     "name": "stderr",
     "output_type": "stream",
     "text": [
      "/usr/local/lib/anaconda2/lib/python2.7/json/encoder.py:207: DeprecationWarning: Interpreting naive datetime as local 2017-06-08 21:46:48.573857. Please add timezone info to timestamps.\n",
      "  chunks = self.iterencode(o, _one_shot=True)\n"
     ]
    }
   ],
   "source": [
    "def make_submit(train_data_path, feature_path, sample_submission_path, submission_save_path):    \n",
    "    # 训练分类器\n",
    "    clf = train_xgboost(train_data_path, feature_path)\n",
    "    \n",
    "    # 取出测试集数据做预测\n",
    "    df = pd.read_csv(sample_submission_path)\n",
    "    x = np.array([np.mean(np.load(feature_path + '%s.npy' % str(id)), axis=0) for id in df['id'].tolist()])\n",
    "    pred = clf.predict(x)\n",
    "\n",
    "    # 将结果写入文件准备提交\n",
    "    df['cancer'] = pred\n",
    "    df.to_csv(submission_save_path, index=False)\n",
    "    print(df.head())"
   ]
  },
  {
   "cell_type": "code",
   "execution_count": 26,
   "metadata": {
    "collapsed": false,
    "deletable": true,
    "editable": true
   },
   "outputs": [
    {
     "name": "stderr",
     "output_type": "stream",
     "text": [
      "/usr/local/lib/anaconda2/lib/python2.7/json/encoder.py:207: DeprecationWarning: Interpreting naive datetime as local 2017-06-08 21:46:57.077648. Please add timezone info to timestamps.\n",
      "  chunks = self.iterencode(o, _one_shot=True)\n"
     ]
    }
   ],
   "source": []
  },
  {
   "cell_type": "code",
   "execution_count": 30,
   "metadata": {
    "collapsed": false,
    "deletable": true,
    "editable": true
   },
   "outputs": [
    {
     "ename": "SyntaxError",
     "evalue": "invalid syntax (<ipython-input-30-103a2f9e43e8>, line 1)",
     "output_type": "error",
     "traceback": [
      "\u001b[0;36m  File \u001b[0;32m\"<ipython-input-30-103a2f9e43e8>\"\u001b[0;36m, line \u001b[0;32m1\u001b[0m\n\u001b[0;31m    du -sh './abc.npy'\u001b[0m\n\u001b[0m                     ^\u001b[0m\n\u001b[0;31mSyntaxError\u001b[0m\u001b[0;31m:\u001b[0m invalid syntax\n"
     ]
    },
    {
     "name": "stderr",
     "output_type": "stream",
     "text": [
      "/usr/local/lib/anaconda2/lib/python2.7/json/encoder.py:207: DeprecationWarning: Interpreting naive datetime as local 2017-06-08 21:47:17.142431. Please add timezone info to timestamps.\n",
      "  chunks = self.iterencode(o, _one_shot=True)\n"
     ]
    }
   ],
   "source": []
  },
  {
   "cell_type": "code",
   "execution_count": 74,
   "metadata": {
    "collapsed": false,
    "deletable": true,
    "editable": true
   },
   "outputs": [
    {
     "data": {
      "text/plain": [
       "'/home/yuens/Documents/charm/cervical-cancer-screening/code'"
      ]
     },
     "execution_count": 74,
     "metadata": {},
     "output_type": "execute_result"
    },
    {
     "name": "stderr",
     "output_type": "stream",
     "text": [
      "/usr/local/lib/anaconda2/lib/python2.7/json/encoder.py:207: DeprecationWarning: Interpreting naive datetime as local 2017-06-09 22:58:55.048329. Please add timezone info to timestamps.\n",
      "  chunks = self.iterencode(o, _one_shot=True)\n"
     ]
    }
   ],
   "source": []
  },
  {
   "cell_type": "code",
   "execution_count": null,
   "metadata": {
    "collapsed": true
   },
   "outputs": [],
   "source": []
  }
 ],
 "metadata": {
  "kernelspec": {
   "display_name": "Python 2",
   "language": "python",
   "name": "python2"
  },
  "language_info": {
   "codemirror_mode": {
    "name": "ipython",
    "version": 2
   },
   "file_extension": ".py",
   "mimetype": "text/x-python",
   "name": "python",
   "nbconvert_exporter": "python",
   "pygments_lexer": "ipython2",
   "version": "2.7.13"
  }
 },
 "nbformat": 4,
 "nbformat_minor": 2
}
